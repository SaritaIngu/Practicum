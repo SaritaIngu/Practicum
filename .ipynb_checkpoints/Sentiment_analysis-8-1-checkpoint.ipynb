{
 "cells": [
  {
   "cell_type": "code",
   "execution_count": 1,
   "metadata": {},
   "outputs": [],
   "source": [
    "#Reading all the files (stop words, negative and positive words into 3 different dictionaries)"
   ]
  },
  {
   "cell_type": "code",
   "execution_count": 1,
   "metadata": {},
   "outputs": [
    {
     "name": "stdout",
     "output_type": "stream",
     "text": [
      "Populating the interactive namespace from numpy and matplotlib\n"
     ]
    }
   ],
   "source": [
    "from IPython.core.interactiveshell import InteractiveShell\n",
    "InteractiveShell.ast_node_interactivity = \"all\"\n",
    "\n",
    "import seaborn as sns\n",
    "import pandas as pd\n",
    "import numpy as np\n",
    "%pylab inline\n",
    "\n",
    "import sklearn as sk\n",
    "import sklearn.tree as tree\n",
    "from IPython.display import Image  \n",
    "\n",
    "import bs4 as bs\n",
    "import csv\n",
    "import requests\n",
    "import urllib\n",
    "from urllib.request import urlopen\n",
    "\n",
    "\n",
    "from textblob import TextBlob\n",
    "from vaderSentiment.vaderSentiment import SentimentIntensityAnalyzer"
   ]
  },
  {
   "cell_type": "markdown",
   "metadata": {},
   "source": [
    "# Sentiment Analysis"
   ]
  },
  {
   "cell_type": "markdown",
   "metadata": {},
   "source": [
    "1.Read the  file and identify number of positive and negative words while taking care of stop words..**cumulative sentiment sum of positive and negative word**.\n",
    "\n",
    "2.**TextBlob** is a Python (2 and 3) library for processing textual data. It provides a simple API for diving into common natural language processing (NLP) tasks such as part-of-speech tagging, noun phrase extraction, sentiment analysis, classification, translation, and more.\n",
    "\n",
    "**With TextBlob, we get a polarity and a subjectivity metric.** The polarity is the sentiment itself, ranging from a -1 to a +1. The subjectivity is a measure of the sentiment being objective to subjective, and goes from 0 to 1. We'd rather see sentiment that is objective than subjective, so a lower score should likely denote a more likely-to-be-accurate reading. We'll see.\n",
    "\n",
    "3.**VADER Sentiment Analysis**: VADER (Valence Aware Dictionary and sEntiment Reasoner) is a lexicon and rule-based sentiment analysis tool.\n",
    "\n",
    "The neg is negative sentiment found, neu is anything found to be neutral, pos is positive, and the compound is \"computed by summing the valence scores of each word in the lexicon, adjusted according to the rules, then normalized... [it] is the most useful metric if you want a single unidimensional measure of sentiment.\" (from the docs). The docs also suggest:\n",
    "**positive sentiment: compound score >= 0.5 neutral sentiment: (compound score > -0.5) and (compound score < 0.5) negative sentiment: compound score <= -0.5**"
   ]
  },
  {
   "cell_type": "code",
   "execution_count": null,
   "metadata": {},
   "outputs": [],
   "source": [
    "##Reading dictionaries"
   ]
  },
  {
   "cell_type": "code",
   "execution_count": 2,
   "metadata": {},
   "outputs": [],
   "source": [
    "##Reading stop words into stop_words dictionary\n",
    "\n",
    "stop_words={}\n",
    "with open(\"C:\\\\Users\\\\shikh\\\\Desktop\\\\Practicum\\\\stop_words.txt\",'r') as sw:    ##opening stop_words.txt file\n",
    "    for line in sw:                        \n",
    "        line =line.strip()               ##stripping any blank spaces from the beginning & end of line\n",
    "        stop_words[line] = 0             ## Entering the word to stop_words dictionary"
   ]
  },
  {
   "cell_type": "code",
   "execution_count": 3,
   "metadata": {},
   "outputs": [],
   "source": [
    "##Reading negative words into negative_words dictionary\n",
    "negative_words={}\n",
    "with open(\"C:\\\\Users\\\\shikh\\\\Desktop\\\\Practicum\\\\negative-words.txt\",'r') as nw:          ##opening negative_words.txt file\n",
    "    for line in nw:\n",
    "        line = line.strip()                         ##stripping any blank spaces from the beginning & end of line\n",
    "        negative_words[line] = 0                     ## Entering the word to negative_words dictionary"
   ]
  },
  {
   "cell_type": "code",
   "execution_count": 4,
   "metadata": {},
   "outputs": [],
   "source": [
    "##Reading negative words into positive_words dictionary\n",
    "positive_words={}\n",
    "with open(\"C:\\\\Users\\\\shikh\\\\Desktop\\\\Practicum\\\\positive-words.txt\",'r') as pw:   ##opening postive_words.txt file\n",
    "    for line in pw:\n",
    "        line = line.strip()                  ##stripping any blank spaces from the beginning & end of line\n",
    "        positive_words[line] = 0             ## Entering the word to postive_words dictionary"
   ]
  },
  {
   "cell_type": "code",
   "execution_count": 5,
   "metadata": {},
   "outputs": [
    {
     "name": "stdout",
     "output_type": "stream",
     "text": [
      "119\n",
      "4783\n",
      "2007\n"
     ]
    }
   ],
   "source": [
    "# Check if words have been loaded or not\n",
    "print(len(stop_words))                  \n",
    "print(len(negative_words))\n",
    "print(len(positive_words))"
   ]
  },
  {
   "cell_type": "markdown",
   "metadata": {},
   "source": [
    "**Human-generated sentiment for articles** (**P** - positive, **mP** - mildly positive, **N** - negative, **mN** - mildly negative, **--** means neutral)  \n",
    "Text 1: P  \n",
    "Text 2: --  \n",
    "Text 3: mN  \n",
    "Text 4: N  \n",
    "Text 5: N  \n",
    "Text 6: N  \n",
    "Text 7: P  \n",
    "Text 8: N  \n",
    "Text 9: P  \n",
    "Text 10: P  \n",
    "Text 11: P  \n",
    "Text 12: -- (P from market POV)  \n",
    "Text 13: P (for Google, N (for Microsoft)  \n",
    "Text 14: P  \n",
    "Text 15: --  \n",
    "Text 16: N  "
   ]
  },
  {
   "cell_type": "markdown",
   "metadata": {},
   "source": []
  },
  {
   "cell_type": "code",
   "execution_count": 6,
   "metadata": {},
   "outputs": [
    {
     "name": "stdout",
     "output_type": "stream",
     "text": [
      "Amazon hits new all-time high after earningsJul. 27, 2018 9:58 AM ET|By: Brandy Betz, SA News EditorAmazon (NASDAQ:AMZN) hit a new all-time high this morning with shares touching $1,880.05 before pulling back.The company’s stellar earnings report featured a quarterly profit that topped $2B for the first time and the best operating margin in over a decade.AMZN shares are currently up 2.4% to $1,850.55 with a $932.3B market cap.Previously: Amazon +3.2% on Q2 EPS beat, 49% AWS growth (July 26)\n"
     ]
    }
   ],
   "source": [
    "text1=''\n",
    "with open(\"C:\\\\Users\\\\shikh\\\\Desktop\\\\Practicum\\\\text1.txt\",\"r\") as text:\n",
    "    for line in text:                         \n",
    "        line = line.strip()\n",
    "        text1 += line\n",
    "print(text1)"
   ]
  },
  {
   "cell_type": "code",
   "execution_count": 7,
   "metadata": {},
   "outputs": [
    {
     "name": "stdout",
     "output_type": "stream",
     "text": [
      "POSITIVE COUNT:2\n",
      "NEGATIVE COUNT:0\n",
      "SUM IS:2\n"
     ]
    }
   ],
   "source": [
    "# Read the  file and identify number of positive and negative words while taking care of stop words\n",
    "positive_sentiment=0\n",
    "negative_sentiment=0\n",
    "##defining clean(word) function for the purpose of removing special characters\n",
    "def clean(word):\n",
    "    symbols = ['!','@','#','$','%','_','^','&','*','(',')','-','+','=','?']\n",
    "    for symbol in symbols:\n",
    "        word = word.replace(symbol,'')\n",
    "    return word\n",
    "\n",
    "with open(\"C:\\\\Users\\\\shikh\\\\Desktop\\\\Practicum\\\\text1.txt\",'r') as tweets:            ###opening original tweet file\n",
    "    for line in tweets:                         \n",
    "        line = line.strip()                       ##stripping characters before and after the line\n",
    "        words = line.split()                      ## getting words from  the lines\n",
    "        for word in words:\n",
    "            word = word.lower()                 ##getting lower case of the word\n",
    "            word = clean(word)                  ##applying clean function to the words\n",
    "            if word not in stop_words:          ##check if word  is not in stop_words dictionary\n",
    "                if word in positive_words:      ## check if the word is in positive_words dictionary \n",
    "                    positive_sentiment = positive_sentiment +1       ###if yes add 1 to count of positive_tweets\n",
    "                elif word in negative_words:                    ##if no checck if the words is in negative_words dictionary\n",
    "                    negative_sentiment = negative_sentiment -1        ## if yes substract 1 from the count of negative_tweets\n",
    "    \n",
    "##concatenating string POSITIVE COUNT:with string of positive_tweets\n",
    "print(\"POSITIVE COUNT:\" + str(positive_sentiment))  \n",
    "##concatenating string NEGATIVE COUNT:with string of negative_tweets\n",
    "print(\"NEGATIVE COUNT:\" + str(negative_sentiment))           \n",
    "\n",
    "# Concatening and printing sum of positive and negative tweets:\n",
    "\n",
    "print(\"SUM IS:\" + str(positive_sentiment+negative_sentiment))"
   ]
  },
  {
   "cell_type": "code",
   "execution_count": 8,
   "metadata": {
    "scrolled": true
   },
   "outputs": [
    {
     "name": "stdout",
     "output_type": "stream",
     "text": [
      "Sentiment(polarity=0.2880808080808081, subjectivity=0.4191582491582491)\n",
      "Sentiment is positive\n"
     ]
    }
   ],
   "source": [
    "analysis1=TextBlob(text1)\n",
    "print(analysis1.sentiment)\n",
    "\n",
    "a=analysis1.sentiment.polarity\n",
    "if a>0:\n",
    "    print(\"Sentiment is positive\")\n",
    "elif a==0:\n",
    "    print(\"Sentiment is neutral\")\n",
    "else:\n",
    "    print(\"Sentiment is negative\")"
   ]
  },
  {
   "cell_type": "code",
   "execution_count": 9,
   "metadata": {},
   "outputs": [
    {
     "name": "stdout",
     "output_type": "stream",
     "text": [
      "{'neg': 0.0, 'neu': 0.795, 'pos': 0.205, 'compound': 0.9382}\n",
      "Sentiment is positive\n"
     ]
    }
   ],
   "source": [
    "from vaderSentiment.vaderSentiment import SentimentIntensityAnalyzer\n",
    "analyzer = SentimentIntensityAnalyzer()\n",
    "vs1 = analyzer.polarity_scores(text1)\n",
    "print(vs1)\n",
    "\n",
    "b=analyzer.polarity_scores(text1)['compound']\n",
    "\n",
    "if b>=0.5:\n",
    "    print(\"Sentiment is positive\")\n",
    "elif(b>-0.5 & b<0.5):\n",
    "    print(\"Sentiment is neutral\")\n",
    "else:\n",
    "    print(\"Sentiment is negative\")"
   ]
  },
  {
   "cell_type": "code",
   "execution_count": 10,
   "metadata": {},
   "outputs": [
    {
     "name": "stdout",
     "output_type": "stream",
     "text": [
      "WhatsApp starts plan to charge business customersAug. 1, 2018 12:36 PM ET|By: Jason Aycock, SA News EditorWith usage and revenue growth starting to moderate at WhatsApp, parent Facebook (FB -0.4%) is flipping a revenue switch with its plan to charge businesses for sending messages to consumers.That comes via the WhatsApp Business API, which allows for a variety of customized notifications. WhatsApp launched a business app for Android phones in January, with plans to eventually charge businesses.Confirmed delivery of marketing and support messages will range from 0.5 cents to 9 cents per message, with rates varying by country. Businesses can also respond to questions or comments free within 24 hours of receipt.That's more expensive than typical SMS carriage rates, but WhatsApp points to data showing business clients seeing heavy read rates on delivered messages.\n"
     ]
    }
   ],
   "source": [
    "text2=''\n",
    "with open(\"C:\\\\Users\\\\shikh\\\\Desktop\\\\Practicum\\\\text2.txt\",\"r\") as text:\n",
    "    for line in text:                         \n",
    "        line = line.strip()\n",
    "        text2 += line\n",
    "print(text2)"
   ]
  },
  {
   "cell_type": "code",
   "execution_count": 11,
   "metadata": {},
   "outputs": [
    {
     "name": "stdout",
     "output_type": "stream",
     "text": [
      "POSITIVE COUNT:3\n",
      "NEGATIVE COUNT:-1\n",
      "SUM IS:2\n"
     ]
    }
   ],
   "source": [
    "positive_sentiment=0\n",
    "negative_sentiment=0\n",
    "##defining clean(word) function for the purpose of removing special characters\n",
    "def clean(word):\n",
    "    symbols = ['!','@','#','$','%','_','^','&','*','(',')','-','+','=','?']\n",
    "    for symbol in symbols:\n",
    "        word = word.replace(symbol,'')\n",
    "    return word\n",
    "\n",
    "with open(\"C:\\\\Users\\\\shikh\\\\Desktop\\\\Practicum\\\\text2.txt\",'r') as tweets:            ###opening original tweet file\n",
    "    for line in tweets:                         \n",
    "        line = line.strip()                       ##stripping characters before and after the line\n",
    "        words = line.split()                      ## getting words from  the lines\n",
    "        for word in words:\n",
    "            word = word.lower()                 ##getting lower case of the word\n",
    "            word = clean(word)                  ##applying clean function to the words\n",
    "            if word not in stop_words:          ##check if word  is not in stop_words dictionary\n",
    "                if word in positive_words:      ## check if the word is in positive_words dictionary \n",
    "                    positive_sentiment = positive_sentiment +1       ###if yes add 1 to count of positive_tweets\n",
    "                elif word in negative_words:                    ##if no checck if the words is in negative_words dictionary\n",
    "                    negative_sentiment = negative_sentiment -1        ## if yes substract 1 from the count of negative_tweets\n",
    "    \n",
    "##concatenating string POSITIVE COUNT:with string of positive_tweets\n",
    "print(\"POSITIVE COUNT:\" + str(positive_sentiment))  \n",
    "##concatenating string NEGATIVE COUNT:with string of negative_tweets\n",
    "print(\"NEGATIVE COUNT:\" + str(negative_sentiment))           \n",
    "\n",
    "# Concatening and printing sum of positive and negative tweets:\n",
    "\n",
    "print(\"SUM IS:\" + str(positive_sentiment+negative_sentiment))"
   ]
  },
  {
   "cell_type": "code",
   "execution_count": 13,
   "metadata": {},
   "outputs": [
    {
     "name": "stdout",
     "output_type": "stream",
     "text": [
      "Sentiment(polarity=0.004761904761904765, subjectivity=0.5428571428571428)\n",
      "Sentiment is positive\n"
     ]
    }
   ],
   "source": [
    "analysis2=TextBlob(text2)\n",
    "print(analysis2.sentiment)\n",
    "\n",
    "a=analysis2.sentiment.polarity\n",
    "if a>0:\n",
    "    print(\"Sentiment is positive\")\n",
    "elif a==0:\n",
    "    print(\"Sentiment is neutral\")\n",
    "else:\n",
    "    print(\"Sentiment is negative\")"
   ]
  },
  {
   "cell_type": "code",
   "execution_count": 14,
   "metadata": {},
   "outputs": [
    {
     "name": "stdout",
     "output_type": "stream",
     "text": [
      "{'neg': 0.0, 'neu': 0.947, 'pos': 0.053, 'compound': 0.6187}\n",
      "Sentiment is positive\n"
     ]
    }
   ],
   "source": [
    "from vaderSentiment.vaderSentiment import SentimentIntensityAnalyzer\n",
    "analyzer = SentimentIntensityAnalyzer()\n",
    "vs2 = analyzer.polarity_scores(text2)\n",
    "print(vs2)\n",
    "\n",
    "b=analyzer.polarity_scores(text2)['compound']\n",
    "\n",
    "if b>=0.5:\n",
    "    print(\"Sentiment is positive\")\n",
    "elif(b>-0.5 & b<0.5):\n",
    "    print(\"Sentiment is neutral\")\n",
    "else:\n",
    "    print(\"Sentiment is negative\")"
   ]
  },
  {
   "cell_type": "code",
   "execution_count": 15,
   "metadata": {},
   "outputs": [
    {
     "name": "stdout",
     "output_type": "stream",
     "text": [
      "NYT: Facebook identifies coordinated campaign to shape midterms (updated)Jul. 31, 2018 12:31 PM ET|About: Facebook (FB)|By: Jason Aycock, SA News EditorFacebook (FB +1.6%) has detected a coordinated influence campaign, using fake accounts, to influence the U.S. midterm elections, The New York Times reports.The company is preparing to announce its findings, which it's already shared with U.S. lawmakers this week, according to the report.Facebook's been unable to tie the campaign to Russia, though it believes Russia may be involved. Issues including \"Unite the Right\" and \"#AbolishICE\" are the focus of the fake accounts' activities.Previous work by the Russia-linked Internet Research Agency focused on inflaming divisive American issues ahead of the 2016 election.Updated 12:47 p.m.: Facebook has posted. \"Today we removed 32 Pages and accounts from Facebook and Instagram because they were involved in coordinated inauthentic behavior,\" the company says. While it doesn't know who's behind the effort, \"we are sharing what we know today given the connection between these bad actors and protests that are planned in Washington next week ... It’s clear that whoever set up these accounts went to much greater lengths to obscure their true identities than the Russian-based Internet Research Agency has in the past.\"\n"
     ]
    }
   ],
   "source": [
    "text3=''\n",
    "with open(\"C:\\\\Users\\\\shikh\\\\Desktop\\\\Practicum\\\\text3.txt\",\"r\") as text:\n",
    "    for line in text:                         \n",
    "        line = line.strip()\n",
    "        text3 += line\n",
    "print(text3)"
   ]
  },
  {
   "cell_type": "code",
   "execution_count": 16,
   "metadata": {},
   "outputs": [
    {
     "name": "stdout",
     "output_type": "stream",
     "text": [
      "POSITIVE COUNT:2\n",
      "NEGATIVE COUNT:-9\n",
      "SUM IS:-7\n"
     ]
    }
   ],
   "source": [
    "positive_sentiment=0\n",
    "negative_sentiment=0\n",
    "##defining clean(word) function for the purpose of removing special characters\n",
    "def clean(word):\n",
    "    symbols = ['!','@','#','$','%','_','^','&','*','(',')','-','+','=','?']\n",
    "    for symbol in symbols:\n",
    "        word = word.replace(symbol,'')\n",
    "    return word\n",
    "\n",
    "with open(\"C:\\\\Users\\\\shikh\\\\Desktop\\\\Practicum\\\\text3.txt\",'r') as tweets:            ###opening original tweet file\n",
    "    for line in tweets:                         \n",
    "        line = line.strip()                       ##stripping characters before and after the line\n",
    "        words = line.split()                      ## getting words from  the lines\n",
    "        for word in words:\n",
    "            word = word.lower()                 ##getting lower case of the word\n",
    "            word = clean(word)                  ##applying clean function to the words\n",
    "            if word not in stop_words:          ##check if word  is not in stop_words dictionary\n",
    "                if word in positive_words:      ## check if the word is in positive_words dictionary \n",
    "                    positive_sentiment = positive_sentiment +1       ###if yes add 1 to count of positive_tweets\n",
    "                elif word in negative_words:                    ##if no checck if the words is in negative_words dictionary\n",
    "                    negative_sentiment = negative_sentiment -1        ## if yes substract 1 from the count of negative_tweets\n",
    "    \n",
    "##concatenating string POSITIVE COUNT:with string of positive_tweets\n",
    "print(\"POSITIVE COUNT:\" + str(positive_sentiment))  \n",
    "##concatenating string NEGATIVE COUNT:with string of negative_tweets\n",
    "print(\"NEGATIVE COUNT:\" + str(negative_sentiment))           \n",
    "\n",
    "# Concatening and printing sum of positive and negative tweets:\n",
    "\n",
    "print(\"SUM IS:\" + str(positive_sentiment+negative_sentiment))"
   ]
  },
  {
   "cell_type": "code",
   "execution_count": 17,
   "metadata": {},
   "outputs": [
    {
     "name": "stdout",
     "output_type": "stream",
     "text": [
      "Sentiment(polarity=-0.11368631368631367, subjectivity=0.5107892107892108)\n",
      "Sentiment is negative\n"
     ]
    }
   ],
   "source": [
    "analysis3=TextBlob(text3)\n",
    "print(analysis3.sentiment)\n",
    "\n",
    "a=analysis3.sentiment.polarity\n",
    "if a>0:\n",
    "    print(\"Sentiment is positive\")\n",
    "elif a==0:\n",
    "    print(\"Sentiment is neutral\")\n",
    "else:\n",
    "    print(\"Sentiment is negative\")"
   ]
  },
  {
   "cell_type": "code",
   "execution_count": 20,
   "metadata": {},
   "outputs": [
    {
     "name": "stdout",
     "output_type": "stream",
     "text": [
      "{'neg': 0.054, 'neu': 0.873, 'pos': 0.073, 'compound': 0.4767}\n",
      "Sentiment is neutral\n"
     ]
    }
   ],
   "source": [
    "from vaderSentiment.vaderSentiment import SentimentIntensityAnalyzer\n",
    "analyzer = SentimentIntensityAnalyzer()\n",
    "vs3 = analyzer.polarity_scores(text3)\n",
    "print(vs3)\n",
    "\n",
    "\n",
    "b=analyzer.polarity_scores(text3)['compound']\n",
    "\n",
    "if b>=0.5:\n",
    "    print(\"Sentiment is positive\")\n",
    "elif((b>-0.5) & (b<0.5)):\n",
    "    print(\"Sentiment is neutral\")\n",
    "elif(b<=-.5):\n",
    "    print(\"Sentiment is negative\")"
   ]
  },
  {
   "cell_type": "code",
   "execution_count": 21,
   "metadata": {},
   "outputs": [
    {
     "name": "stdout",
     "output_type": "stream",
     "text": [
      "UK lawmakers: Hold tech firms liable for fake newsJul. 28, 2018 5:13 PM ET|By: Jason Aycock, SA News EditorTech firms (and particularly social media) should be held liable for \"harmful and misleading\" material spread on their platforms, UK lawmakers say, and should pay a levy to enable regulation.\"Companies like Facebook (NASDAQ:FB) made it easy for developers to scrape user data and to deploy it in other campaigns without their knowledge or consent,\" says media committee chairman Damian Collins. \"They must be made responsible, and liable, for the way in which harmful and misleading content is shared on their sites.\"That's part of an interim committee report that leaked early, which suggested that standards for online firms could be modeled after existing ones for television and radio.The full report is due in the fall.\n"
     ]
    }
   ],
   "source": [
    "text4=''\n",
    "with open(\"C:\\\\Users\\\\shikh\\\\Desktop\\\\Practicum\\\\text4.txt\",\"r\") as text:\n",
    "    for line in text:                         \n",
    "        line = line.strip()\n",
    "        text4 += line\n",
    "print(text4)"
   ]
  },
  {
   "cell_type": "code",
   "execution_count": 22,
   "metadata": {},
   "outputs": [
    {
     "name": "stdout",
     "output_type": "stream",
     "text": [
      "POSITIVE COUNT:1\n",
      "NEGATIVE COUNT:-5\n",
      "SUM IS:-4\n"
     ]
    }
   ],
   "source": [
    "positive_sentiment=0\n",
    "negative_sentiment=0\n",
    "##defining clean(word) function for the purpose of removing special characters\n",
    "def clean(word):\n",
    "    symbols = ['!','@','#','$','%','_','^','&','*','(',')','-','+','=','?']\n",
    "    for symbol in symbols:\n",
    "        word = word.replace(symbol,'')\n",
    "    return word\n",
    "\n",
    "with open(\"C:\\\\Users\\\\shikh\\\\Desktop\\\\Practicum\\\\text4.txt\",'r') as tweets:            ###opening original tweet file\n",
    "    for line in tweets:                         \n",
    "        line = line.strip()                       ##stripping characters before and after the line\n",
    "        words = line.split()                      ## getting words from  the lines\n",
    "        for word in words:\n",
    "            word = word.lower()                 ##getting lower case of the word\n",
    "            word = clean(word)                  ##applying clean function to the words\n",
    "            if word not in stop_words:          ##check if word  is not in stop_words dictionary\n",
    "                if word in positive_words:      ## check if the word is in positive_words dictionary \n",
    "                    positive_sentiment = positive_sentiment +1       ###if yes add 1 to count of positive_tweets\n",
    "                elif word in negative_words:                    ##if no checck if the words is in negative_words dictionary\n",
    "                    negative_sentiment = negative_sentiment -1        ## if yes substract 1 from the count of negative_tweets\n",
    "    \n",
    "##concatenating string POSITIVE COUNT:with string of positive_tweets\n",
    "print(\"POSITIVE COUNT:\" + str(positive_sentiment))  \n",
    "##concatenating string NEGATIVE COUNT:with string of negative_tweets\n",
    "print(\"NEGATIVE COUNT:\" + str(negative_sentiment))           \n",
    "\n",
    "# Concatening and printing sum of positive and negative tweets:\n",
    "\n",
    "print(\"SUM IS:\" + str(positive_sentiment+negative_sentiment))"
   ]
  },
  {
   "cell_type": "code",
   "execution_count": 23,
   "metadata": {},
   "outputs": [
    {
     "name": "stdout",
     "output_type": "stream",
     "text": [
      "Sentiment(polarity=0.0060606060606060615, subjectivity=0.5045454545454545)\n",
      "Sentiment is positive\n"
     ]
    }
   ],
   "source": [
    "analysis4=TextBlob(text4)\n",
    "print(analysis4.sentiment)\n",
    "\n",
    "a=analysis4.sentiment.polarity\n",
    "if a>0:\n",
    "    print(\"Sentiment is positive\")\n",
    "elif a==0:\n",
    "    print(\"Sentiment is neutral\")\n",
    "else:\n",
    "    print(\"Sentiment is negative\")"
   ]
  },
  {
   "cell_type": "code",
   "execution_count": 24,
   "metadata": {},
   "outputs": [
    {
     "name": "stdout",
     "output_type": "stream",
     "text": [
      "{'neg': 0.085, 'neu': 0.845, 'pos': 0.07, 'compound': -0.2732}\n",
      "Sentiment is neutral\n"
     ]
    }
   ],
   "source": [
    "from vaderSentiment.vaderSentiment import SentimentIntensityAnalyzer\n",
    "analyzer = SentimentIntensityAnalyzer()\n",
    "vs4 = analyzer.polarity_scores(text4)\n",
    "print(vs4)\n",
    "\n",
    "b=analyzer.polarity_scores(text4)['compound']\n",
    "\n",
    "if b>=0.5:\n",
    "    print(\"Sentiment is positive\")\n",
    "elif((b>-0.5) & (b<0.5)):\n",
    "    print(\"Sentiment is neutral\")\n",
    "elif(b<=-.5):\n",
    "    print(\"Sentiment is negative\")"
   ]
  },
  {
   "cell_type": "code",
   "execution_count": 80,
   "metadata": {},
   "outputs": [
    {
     "name": "stdout",
     "output_type": "stream",
     "text": [
      "Shareholder sues Facebook, Zuckerberg after tumbleJul. 27, 2018 5:28 PM ET|About: Facebook (FB)|By: Jason Aycock, SA News EditorA shareholder has sued Facebook (NASDAQ:FB) and CEO Mark Zuckerberg, in what may be unsurprising news following what ended up as a 19% stock decline on Thursday.James Kacouris is alleging the violation of federal securities laws.He's seeking class action status and unspecified damages.Facebook ended Friday 0.8% lower. It touched $173 today, its lowest point since the end of May.\n"
     ]
    }
   ],
   "source": [
    "text5=''\n",
    "with open(\"C:\\\\Users\\\\shikh\\\\Desktop\\\\Practicum\\\\text5.txt\",\"r\") as text:\n",
    "    for line in text:                         \n",
    "        line = line.strip()\n",
    "        text5 += line\n",
    "print(text5)"
   ]
  },
  {
   "cell_type": "code",
   "execution_count": 26,
   "metadata": {},
   "outputs": [
    {
     "name": "stdout",
     "output_type": "stream",
     "text": [
      "POSITIVE COUNT:0\n",
      "NEGATIVE COUNT:-6\n",
      "SUM IS:-6\n"
     ]
    }
   ],
   "source": [
    "positive_sentiment=0\n",
    "negative_sentiment=0\n",
    "##defining clean(word) function for the purpose of removing special characters\n",
    "def clean(word):\n",
    "    symbols = ['!','@','#','$','%','_','^','&','*','(',')','-','+','=','?']\n",
    "    for symbol in symbols:\n",
    "        word = word.replace(symbol,'')\n",
    "    return word\n",
    "\n",
    "with open(\"C:\\\\Users\\\\shikh\\\\Desktop\\\\Practicum\\\\text5.txt\",'r') as tweets:            ###opening original tweet file\n",
    "    for line in tweets:                         \n",
    "        line = line.strip()                       ##stripping characters before and after the line\n",
    "        words = line.split()                      ## getting words from  the lines\n",
    "        for word in words:\n",
    "            word = word.lower()                 ##getting lower case of the word\n",
    "            word = clean(word)                  ##applying clean function to the words\n",
    "            if word not in stop_words:          ##check if word  is not in stop_words dictionary\n",
    "                if word in positive_words:      ## check if the word is in positive_words dictionary \n",
    "                    positive_sentiment = positive_sentiment +1       ###if yes add 1 to count of positive_tweets\n",
    "                elif word in negative_words:                    ##if no checck if the words is in negative_words dictionary\n",
    "                    negative_sentiment = negative_sentiment -1        ## if yes substract 1 from the count of negative_tweets\n",
    "    \n",
    "##concatenating string POSITIVE COUNT:with string of positive_tweets\n",
    "print(\"POSITIVE COUNT:\" + str(positive_sentiment))  \n",
    "##concatenating string NEGATIVE COUNT:with string of negative_tweets\n",
    "print(\"NEGATIVE COUNT:\" + str(negative_sentiment))           \n",
    "\n",
    "# Concatening and printing sum of positive and negative tweets:\n",
    "\n",
    "print(\"SUM IS:\" + str(positive_sentiment+negative_sentiment))"
   ]
  },
  {
   "cell_type": "code",
   "execution_count": 28,
   "metadata": {},
   "outputs": [
    {
     "name": "stdout",
     "output_type": "stream",
     "text": [
      "Sentiment(polarity=0.05, subjectivity=0.1)\n",
      "Sentiment is positive\n"
     ]
    }
   ],
   "source": [
    "analysis5=TextBlob(text5)\n",
    "print(analysis5.sentiment)\n",
    "\n",
    "a=analysis5.sentiment.polarity\n",
    "\n",
    "if a>0:\n",
    "    print(\"Sentiment is positive\")\n",
    "elif a==0:\n",
    "    print(\"Sentiment is neutral\")\n",
    "else:\n",
    "    print(\"Sentiment is negative\")"
   ]
  },
  {
   "cell_type": "code",
   "execution_count": 81,
   "metadata": {},
   "outputs": [
    {
     "name": "stdout",
     "output_type": "stream",
     "text": [
      "{'neg': 0.099, 'neu': 0.874, 'pos': 0.027, 'compound': -0.7003}\n",
      "Sentiment is negative\n"
     ]
    }
   ],
   "source": [
    "from vaderSentiment.vaderSentiment import SentimentIntensityAnalyzer\n",
    "analyzer = SentimentIntensityAnalyzer()\n",
    "vs5 = analyzer.polarity_scores(text5)\n",
    "print(vs5)\n",
    "\n",
    "b=analyzer.polarity_scores(text5)['compound']\n",
    "\n",
    "if b>=0.5:\n",
    "    print(\"Sentiment is positive\")\n",
    "elif((b>-0.5) & (b<0.5)):\n",
    "    print(\"Sentiment is neutral\")\n",
    "elif(b<=-.5):\n",
    "    print(\"Sentiment is negative\")"
   ]
  },
  {
   "cell_type": "code",
   "execution_count": 82,
   "metadata": {},
   "outputs": [
    {
     "name": "stdout",
     "output_type": "stream",
     "text": [
      "Facebook not yet a bargain - Heard on the StreetJul. 27, 2018 8:20 AM ET|About: Facebook (FB)|By: Stephen Alpher, SA News EditorYesterday's plunge brought Facebook's (NASDAQ:FB) valuation to 23x forward earnings - about it's lowest multiple ever, writes Dan Gallagher. Exclude net cash, and that drops to 21x, or a 16% discount to what investors are paying for Google.Wall Street's sell-side remains bullish, with more than 85% having a Buy rating on the stock (even after a couple of downgrades yesterday).Maybe not yet priced in though, says Gallagher, is the level of regulatory scrutiny underway, and what the privacy controversies have done to the company's image. Facebook saw its first notable decline in users in the U.S. and Europe last quarter - is it a blip or the start of a sustained downturn?Shares are up 1.15% premarket after yesterday's 19% decline.\n"
     ]
    }
   ],
   "source": [
    "text6=''\n",
    "with open(\"C:\\\\Users\\\\shikh\\\\Desktop\\\\Practicum\\\\text6.txt\",\"r\") as text:\n",
    "    for line in text:                         \n",
    "        line = line.strip()\n",
    "        text6 += line\n",
    "print(text6)"
   ]
  },
  {
   "cell_type": "code",
   "execution_count": 31,
   "metadata": {},
   "outputs": [
    {
     "name": "stdout",
     "output_type": "stream",
     "text": [
      "POSITIVE COUNT:1\n",
      "NEGATIVE COUNT:-2\n",
      "SUM IS:-1\n"
     ]
    }
   ],
   "source": [
    "positive_sentiment=0\n",
    "negative_sentiment=0\n",
    "##defining clean(word) function for the purpose of removing special characters\n",
    "def clean(word):\n",
    "    symbols = ['!','@','#','$','%','_','^','&','*','(',')','-','+','=','?']\n",
    "    for symbol in symbols:\n",
    "        word = word.replace(symbol,'')\n",
    "    return word\n",
    "\n",
    "with open(\"C:\\\\Users\\\\shikh\\\\Desktop\\\\Practicum\\\\text6.txt\",'r') as tweets:            ###opening original tweet file\n",
    "    for line in tweets:                         \n",
    "        line = line.strip()                       ##stripping characters before and after the line\n",
    "        words = line.split()                      ## getting words from  the lines\n",
    "        for word in words:\n",
    "            word = word.lower()                 ##getting lower case of the word\n",
    "            word = clean(word)                  ##applying clean function to the words\n",
    "            if word not in stop_words:          ##check if word  is not in stop_words dictionary\n",
    "                if word in positive_words:      ## check if the word is in positive_words dictionary \n",
    "                    positive_sentiment = positive_sentiment +1       ###if yes add 1 to count of positive_tweets\n",
    "                elif word in negative_words:                    ##if no checck if the words is in negative_words dictionary\n",
    "                    negative_sentiment = negative_sentiment -1        ## if yes substract 1 from the count of negative_tweets\n",
    "    \n",
    "##concatenating string POSITIVE COUNT:with string of positive_tweets\n",
    "print(\"POSITIVE COUNT:\" + str(positive_sentiment))  \n",
    "##concatenating string NEGATIVE COUNT:with string of negative_tweets\n",
    "print(\"NEGATIVE COUNT:\" + str(negative_sentiment))           \n",
    "\n",
    "# Concatening and printing sum of positive and negative tweets:\n",
    "\n",
    "print(\"SUM IS:\" + str(positive_sentiment+negative_sentiment))"
   ]
  },
  {
   "cell_type": "code",
   "execution_count": 32,
   "metadata": {},
   "outputs": [
    {
     "name": "stdout",
     "output_type": "stream",
     "text": [
      "Sentiment(polarity=0.20833333333333334, subjectivity=0.2333333333333333)\n",
      "Sentiment is positive\n"
     ]
    }
   ],
   "source": [
    "analysis6=TextBlob(text6)\n",
    "print(analysis6.sentiment)\n",
    "\n",
    "a=analysis6.sentiment.polarity\n",
    "if a>0:\n",
    "    print(\"Sentiment is positive\")\n",
    "elif a==0:\n",
    "    print(\"Sentiment is neutral\")\n",
    "else:\n",
    "    print(\"Sentiment is negative\")"
   ]
  },
  {
   "cell_type": "code",
   "execution_count": 83,
   "metadata": {},
   "outputs": [
    {
     "name": "stdout",
     "output_type": "stream",
     "text": [
      "{'neg': 0.045, 'neu': 0.955, 'pos': 0.0, 'compound': -0.6239}\n",
      "Sentiment is negative\n"
     ]
    }
   ],
   "source": [
    "from vaderSentiment.vaderSentiment import SentimentIntensityAnalyzer\n",
    "analyzer = SentimentIntensityAnalyzer()\n",
    "vs6 = analyzer.polarity_scores(text6)\n",
    "print(vs6)\n",
    "\n",
    "b=analyzer.polarity_scores(text6)['compound']\n",
    "\n",
    "if b>=0.5:\n",
    "    print(\"Sentiment is positive\")\n",
    "elif((b>-0.5) & (b<0.5)):\n",
    "    print(\"Sentiment is neutral\")\n",
    "elif(b<=-.5):\n",
    "    print(\"Sentiment is negative\")"
   ]
  },
  {
   "cell_type": "code",
   "execution_count": 35,
   "metadata": {},
   "outputs": [
    {
     "name": "stdout",
     "output_type": "stream",
     "text": [
      "Apple hits new all-time high as analysts boost targetsAug. 1, 2018 10:20 AM ET|About: Apple Inc. (AAPL)|By: Brandy Betz, SA News EditorNeedham maintains a Buy rating after earnings and raises its Apple (NASDAQ:AAPL) target by $10 to $220, a 16% upside to yesterday’s close.Firm says the best way to value Apple is as an ecosystem with de facto “subscribers” because research indicates the average iOS consumer stays within that ecosystem for 10 years.Needham estimates the Apple ecosystem has 823K unique members owning 1.4B active devices.More action: Monness Crespi raises from $235 to $275; Citi raises by $20 to $230; Wells Fargo raises to $210; UBS raises by $5 to $215; Bernstein raises from $100 to $190.Source: Briefing.com.Apple shares hit a new all-time high this morning, touching $199.26. Shares are now up 4.5% to $198.64 with the market cap sitting at $972.33B.Previously: Apple +2.4% on Q3 beats with Services at all-time high (July 31)Previously: Key takeaways from Apple's Q3 call include tariff talk (July 31)Previously: Stocks tick higher, with Apple's strong quarter boosting techs (Aug. 1)\n"
     ]
    }
   ],
   "source": [
    "text7=''\n",
    "with open(\"C:\\\\Users\\\\shikh\\\\Desktop\\\\Practicum\\\\text7.txt\",\"r\") as text:\n",
    "    for line in text:                         \n",
    "        line = line.strip()\n",
    "        text7 += line\n",
    "print(text7)"
   ]
  },
  {
   "cell_type": "code",
   "execution_count": 36,
   "metadata": {},
   "outputs": [
    {
     "name": "stdout",
     "output_type": "stream",
     "text": [
      "POSITIVE COUNT:3\n",
      "NEGATIVE COUNT:0\n",
      "SUM IS:3\n"
     ]
    }
   ],
   "source": [
    "positive_sentiment=0\n",
    "negative_sentiment=0\n",
    "##defining clean(word) function for the purpose of removing special characters\n",
    "def clean(word):\n",
    "    symbols = ['!','@','#','$','%','_','^','&','*','(',')','-','+','=','?']\n",
    "    for symbol in symbols:\n",
    "        word = word.replace(symbol,'')\n",
    "    return word\n",
    "\n",
    "with open(\"C:\\\\Users\\\\shikh\\\\Desktop\\\\Practicum\\\\text7.txt\",'r') as tweets:            ###opening original tweet file\n",
    "    for line in tweets:                         \n",
    "        line = line.strip()                       ##stripping characters before and after the line\n",
    "        words = line.split()                      ## getting words from  the lines\n",
    "        for word in words:\n",
    "            word = word.lower()                 ##getting lower case of the word\n",
    "            word = clean(word)                  ##applying clean function to the words\n",
    "            if word not in stop_words:          ##check if word  is not in stop_words dictionary\n",
    "                if word in positive_words:      ## check if the word is in positive_words dictionary \n",
    "                    positive_sentiment = positive_sentiment +1       ###if yes add 1 to count of positive_tweets\n",
    "                elif word in negative_words:                    ##if no checck if the words is in negative_words dictionary\n",
    "                    negative_sentiment = negative_sentiment -1        ## if yes substract 1 from the count of negative_tweets\n",
    "    \n",
    "##concatenating string POSITIVE COUNT:with string of positive_tweets\n",
    "print(\"POSITIVE COUNT:\" + str(positive_sentiment))  \n",
    "##concatenating string NEGATIVE COUNT:with string of negative_tweets\n",
    "print(\"NEGATIVE COUNT:\" + str(negative_sentiment))           \n",
    "\n",
    "# Concatening and printing sum of positive and negative tweets:\n",
    "\n",
    "print(\"SUM IS:\" + str(positive_sentiment+negative_sentiment))"
   ]
  },
  {
   "cell_type": "code",
   "execution_count": 37,
   "metadata": {},
   "outputs": [
    {
     "name": "stdout",
     "output_type": "stream",
     "text": [
      "Sentiment(polarity=0.2234090909090909, subjectivity=0.5473160173160173)\n",
      "Sentiment is positive\n"
     ]
    }
   ],
   "source": [
    "analysis7=TextBlob(text7)\n",
    "print(analysis7.sentiment)\n",
    "\n",
    "a=analysis7.sentiment.polarity\n",
    "if a>0:\n",
    "    print(\"Sentiment is positive\")\n",
    "elif a==0:\n",
    "    print(\"Sentiment is neutral\")\n",
    "else:\n",
    "    print(\"Sentiment is negative\")"
   ]
  },
  {
   "cell_type": "code",
   "execution_count": 38,
   "metadata": {},
   "outputs": [
    {
     "name": "stdout",
     "output_type": "stream",
     "text": [
      "{'neg': 0.0, 'neu': 0.871, 'pos': 0.129, 'compound': 0.9686}\n",
      "Sentiment is positive\n"
     ]
    }
   ],
   "source": [
    "from vaderSentiment.vaderSentiment import SentimentIntensityAnalyzer\n",
    "analyzer = SentimentIntensityAnalyzer()\n",
    "vs7 = analyzer.polarity_scores(text7)\n",
    "print(vs7)\n",
    "\n",
    "b=analyzer.polarity_scores(text7)['compound']\n",
    "\n",
    "if b>=0.5:\n",
    "    print(\"Sentiment is positive\")\n",
    "elif((b>-0.5) & (b<0.5)):\n",
    "    print(\"Sentiment is neutral\")\n",
    "elif(b<=-.5):\n",
    "    print(\"Sentiment is negative\")"
   ]
  },
  {
   "cell_type": "code",
   "execution_count": 39,
   "metadata": {},
   "outputs": [
    {
     "name": "stdout",
     "output_type": "stream",
     "text": [
      "Huawei tops Apple as No. 2 smartphone sellerAug. 1, 2018 4:58 AM ET|About: Apple Inc. (AAPL)|By: Yoel Minkoff, SA News EditorChina's Huawei Technologies overtook Apple (NASDAQ:AAPL) to become the world's second-biggest smartphone seller in the second quarter as it gained ground in Europe and expanded its lead back home.According to IHS and Strategy Analytics, Huawei grabbed more than 15% of the global smartphone market during April-June, overtaking Apple's roughly 12% and just behind Samsung Electronics's (OTC:SSNLF) share of nearly 20%.\n"
     ]
    }
   ],
   "source": [
    "text8=''\n",
    "with open(\"C:\\\\Users\\\\shikh\\\\Desktop\\\\Practicum\\\\text8.txt\",\"r\") as text:\n",
    "    for line in text:                         \n",
    "        line = line.strip()\n",
    "        text8 += line\n",
    "print(text8)"
   ]
  },
  {
   "cell_type": "code",
   "execution_count": 40,
   "metadata": {},
   "outputs": [
    {
     "name": "stdout",
     "output_type": "stream",
     "text": [
      "POSITIVE COUNT:5\n",
      "NEGATIVE COUNT:0\n",
      "SUM IS:5\n"
     ]
    }
   ],
   "source": [
    "positive_sentiment=0\n",
    "negative_sentiment=0\n",
    "##defining clean(word) function for the purpose of removing special characters\n",
    "def clean(word):\n",
    "    symbols = ['!','@','#','$','%','_','^','&','*','(',')','-','+','=','?']\n",
    "    for symbol in symbols:\n",
    "        word = word.replace(symbol,'')\n",
    "    return word\n",
    "\n",
    "with open(\"C:\\\\Users\\\\shikh\\\\Desktop\\\\Practicum\\\\text8.txt\",'r') as tweets:            ###opening original tweet file\n",
    "    for line in tweets:                         \n",
    "        line = line.strip()                       ##stripping characters before and after the line\n",
    "        words = line.split()                      ## getting words from  the lines\n",
    "        for word in words:\n",
    "            word = word.lower()                 ##getting lower case of the word\n",
    "            word = clean(word)                  ##applying clean function to the words\n",
    "            if word not in stop_words:          ##check if word  is not in stop_words dictionary\n",
    "                if word in positive_words:      ## check if the word is in positive_words dictionary \n",
    "                    positive_sentiment = positive_sentiment +1       ###if yes add 1 to count of positive_tweets\n",
    "                elif word in negative_words:                    ##if no checck if the words is in negative_words dictionary\n",
    "                    negative_sentiment = negative_sentiment -1        ## if yes substract 1 from the count of negative_tweets\n",
    "    \n",
    "##concatenating string POSITIVE COUNT:with string of positive_tweets\n",
    "print(\"POSITIVE COUNT:\" + str(positive_sentiment))  \n",
    "##concatenating string NEGATIVE COUNT:with string of negative_tweets\n",
    "print(\"NEGATIVE COUNT:\" + str(negative_sentiment))           \n",
    "\n",
    "# Concatening and printing sum of positive and negative tweets:\n",
    "\n",
    "print(\"SUM IS:\" + str(positive_sentiment+negative_sentiment))"
   ]
  },
  {
   "cell_type": "code",
   "execution_count": 41,
   "metadata": {},
   "outputs": [
    {
     "name": "stdout",
     "output_type": "stream",
     "text": [
      "Sentiment(polarity=0.014285714285714287, subjectivity=0.2857142857142857)\n",
      "Sentiment is positive\n"
     ]
    }
   ],
   "source": [
    "analysis8=TextBlob(text8)\n",
    "print(analysis8.sentiment)\n",
    "\n",
    "a=analysis8.sentiment.polarity\n",
    "if a>0:\n",
    "    print(\"Sentiment is positive\")\n",
    "elif a==0:\n",
    "    print(\"Sentiment is neutral\")\n",
    "else:\n",
    "    print(\"Sentiment is negative\")"
   ]
  },
  {
   "cell_type": "code",
   "execution_count": 42,
   "metadata": {},
   "outputs": [
    {
     "name": "stdout",
     "output_type": "stream",
     "text": [
      "{'neg': 0.026, 'neu': 0.879, 'pos': 0.095, 'compound': 0.7096}\n",
      "Sentiment is positive\n"
     ]
    }
   ],
   "source": [
    "from vaderSentiment.vaderSentiment import SentimentIntensityAnalyzer\n",
    "analyzer = SentimentIntensityAnalyzer()\n",
    "vs8 = analyzer.polarity_scores(text8)\n",
    "print(vs8)\n",
    "\n",
    "b=analyzer.polarity_scores(text8)['compound']\n",
    "\n",
    "if b>=0.5:\n",
    "    print(\"Sentiment is positive\")\n",
    "elif(b>-0.5 & b<0.5):\n",
    "    print(\"Sentiment is neutral\")\n",
    "else:\n",
    "    print(\"Sentiment is negative\")"
   ]
  },
  {
   "cell_type": "code",
   "execution_count": 43,
   "metadata": {},
   "outputs": [
    {
     "name": "stdout",
     "output_type": "stream",
     "text": [
      "Apple (AAPL) Q3 2018 Results - Earnings Call TranscriptJul. 31, 2018 8:39 PM ET|32 comments  | About: Apple Inc. (AAPL)Q3: 07-19-18 Earnings SummaryPress Release  8-K  Analysis  NewsEPS of $2.34 beats by $0.16 Revenue of $53.3B (+ 17.4% Y/Y) beats by $870MApple, Inc. (NASDAQ:AAPL) Q3 2018 Earnings Call July 31, 2018 5:00 PM ETExecutivesNancy Paxton - Apple, Inc.Timothy Donald Cook - Apple, Inc.Luca Maestri - Apple, Inc.AnalystsKathryn Lynn Huberty - Morgan Stanley & Co. LLCShannon S. Cross - Cross Research LLCBrian White - Monness, Crespi, Hardt & Co., Inc.Antonio M. Sacconaghi - Sanford C. Bernstein & Co. LLCLaura Martin - Needham & Co. LLCOperatorGood day and welcome to the Apple Incorporated Third Quarter Fiscal Year 2018 Earnings Conference Call. Today's call is being recorded. At this time for opening remarks and introductions I'd like to turn the call over to Nancy Paxton, Senior Director of Investor Relations. Please go ahead.Nancy Paxton - Apple, Inc.Thank you. Good afternoon and thanks to everyone for joining us. Speaking first today is Apple CEO Tim Cook and he'll be followed by CFO Luca Maestri. After that we'll open the call to questions from analysts.Please note that some of the information you'll hear during our discussion today will consist of forward-looking statements including without limitation those regarding revenue, gross margin, operating expenses, other income and expense, taxes, capital allocation, share repurchases, dividends and future business outlook. Actual results or trends could differ materially from our forecast.For more information, please refer to the risk factors discussed in Apple's most recently-filed periodic reports on form 10-K and form 10-Q and the form 8-K filed with the SEC today, along with the associated press release. Apple assumes no obligation to update any forward-looking statements or information which speak as of their respective date.I'd now like to turn the call over to Tim for introductory remarks.Timothy Donald Cook - Apple, Inc.Thank you, Nancy, and thanks to everyone for joining us. Today we're proud to report our best June quarter revenue and earnings ever thanks to the strong performance of iPhone, services and wearables. We generated $53.3 billion in revenue, a new Q3 record. That's an increase of 17% over last year's result, making it our seventh consecutive quarter of accelerating growth, our fourth consecutive quarter of double-digit growth and our strongest rate of growth in the past 11 quarters.Our team generated record Q3 earnings per share of $2.34, an increase of 40% over last year. We're extremely proud of these results and I'd like to share some highlights with you.First, iPhone had a very strong quarter. Revenue was up 20% year-over-year and our active installed base grew by double-digits, driven by switchers, first time smartphone buyers and our existing customers whose loyalty we greatly appreciate. iPhone X was the most popular iPhone in the quarter once again, with a customer satisfaction score of 98% according to 451 Research. Based on the latest data from IDC, iPhone grew faster than the global smartphone market, gaining share in many markets including the U.S., Greater China, Canada, Germany, Australia, Russia, Mexico and the Middle East and Africa.Second, we had a stellar quarter in services which generated all-time record revenue of $9.5 billion fueled in part by double-digit growth in our overall active installed base. We feel great about the momentum of our services business and we're on target to reach our goal of doubling our fiscal 2016 services revenue by 2020. Our record services results were driven by strong performance in a number of areas and I'd like to briefly mention just some of these.Paid subscriptions from Apple and third parties have now surpassed $300 million, an increase of more than 60% in the past year alone. Revenue from subscriptions accounts for a significant and increasing percentage of our overall services business. What's more, the number of apps offering subscriptions also continue to grow. There are almost 30,000 available in the App Store today.\n"
     ]
    }
   ],
   "source": [
    "text9=''\n",
    "with open(\"C:\\\\Users\\\\shikh\\\\Desktop\\\\Practicum\\\\text9.txt\",\"r\") as text:\n",
    "    for line in text:                         \n",
    "        line = line.strip()\n",
    "        text9 += line\n",
    "print(text9)"
   ]
  },
  {
   "cell_type": "code",
   "execution_count": 44,
   "metadata": {},
   "outputs": [
    {
     "name": "stdout",
     "output_type": "stream",
     "text": [
      "POSITIVE COUNT:20\n",
      "NEGATIVE COUNT:-3\n",
      "SUM IS:17\n"
     ]
    }
   ],
   "source": [
    "positive_sentiment=0\n",
    "negative_sentiment=0\n",
    "##defining clean(word) function for the purpose of removing special characters\n",
    "def clean(word):\n",
    "    symbols = ['!','@','#','$','%','_','^','&','*','(',')','-','+','=','?']\n",
    "    for symbol in symbols:\n",
    "        word = word.replace(symbol,'')\n",
    "    return word\n",
    "\n",
    "with open(\"C:\\\\Users\\\\shikh\\\\Desktop\\\\Practicum\\\\text9.txt\",'r') as tweets:            ###opening original tweet file\n",
    "    for line in tweets:                         \n",
    "        line = line.strip()                       ##stripping characters before and after the line\n",
    "        words = line.split()                      ## getting words from  the lines\n",
    "        for word in words:\n",
    "            word = word.lower()                 ##getting lower case of the word\n",
    "            word = clean(word)                  ##applying clean function to the words\n",
    "            if word not in stop_words:          ##check if word  is not in stop_words dictionary\n",
    "                if word in positive_words:      ## check if the word is in positive_words dictionary \n",
    "                    positive_sentiment = positive_sentiment +1       ###if yes add 1 to count of positive_tweets\n",
    "                elif word in negative_words:                    ##if no checck if the words is in negative_words dictionary\n",
    "                    negative_sentiment = negative_sentiment -1        ## if yes substract 1 from the count of negative_tweets\n",
    "    \n",
    "##concatenating string POSITIVE COUNT:with string of positive_tweets\n",
    "print(\"POSITIVE COUNT:\" + str(positive_sentiment))  \n",
    "##concatenating string NEGATIVE COUNT:with string of negative_tweets\n",
    "print(\"NEGATIVE COUNT:\" + str(negative_sentiment))           \n",
    "\n",
    "# Concatening and printing sum of positive and negative tweets:\n",
    "\n",
    "print(\"SUM IS:\" + str(positive_sentiment+negative_sentiment))"
   ]
  },
  {
   "cell_type": "code",
   "execution_count": 45,
   "metadata": {},
   "outputs": [
    {
     "name": "stdout",
     "output_type": "stream",
     "text": [
      "Sentiment(polarity=0.21110549943883278, subjectivity=0.41171997755331086)\n",
      "Sentiment is positive\n"
     ]
    }
   ],
   "source": [
    "analysis9=TextBlob(text9)\n",
    "print(analysis9.sentiment)\n",
    "\n",
    "a=analysis9.sentiment.polarity\n",
    "if a>0:\n",
    "    print(\"Sentiment is positive\")\n",
    "elif a==0:\n",
    "    print(\"Sentiment is neutral\")\n",
    "else:\n",
    "    print(\"Sentiment is negative\")"
   ]
  },
  {
   "cell_type": "code",
   "execution_count": 46,
   "metadata": {},
   "outputs": [
    {
     "name": "stdout",
     "output_type": "stream",
     "text": [
      "{'neg': 0.013, 'neu': 0.819, 'pos': 0.168, 'compound': 0.9984}\n",
      "Sentiment is positive\n"
     ]
    }
   ],
   "source": [
    "from vaderSentiment.vaderSentiment import SentimentIntensityAnalyzer\n",
    "analyzer = SentimentIntensityAnalyzer()\n",
    "vs9 = analyzer.polarity_scores(text9)\n",
    "print(vs9)\n",
    "\n",
    "b=analyzer.polarity_scores(text9)['compound']\n",
    "\n",
    "if b>=0.5:\n",
    "    print(\"Sentiment is positive\")\n",
    "elif((b>-0.5) & (b<0.5)):\n",
    "    print(\"Sentiment is neutral\")\n",
    "elif(b<=-.5):\n",
    "    print(\"Sentiment is negative\")"
   ]
  },
  {
   "cell_type": "code",
   "execution_count": 47,
   "metadata": {},
   "outputs": [
    {
     "name": "stdout",
     "output_type": "stream",
     "text": [
      "Key takeaways from Apple's Q3 call include tariff talkJul. 31, 2018 6:07 PM ET|About: Apple Inc. (AAPL)|By: Brandy Betz, SA News EditorTim Cook starts the Apple (NASDAQ:AAPL) earnings call by reviewing the 17% Y/Y revenue growth, the strongest growth rate in the past 11 quarters.Revenue for iPhones grew 20% on the year with the active install base up double digits. The iPhone X was the most popular as the ASP boost suggested.Cook says “we feel great about Services momentum” and reiterates the target of doubling annual Services revenue to $50B by 2020. Paid subscriptions from Apple and third parties hit 300M with revenue from subscription accounts a “significant and increasing” part of Services.Apple Music grew 50% Y/Y.Wearables revenue hits $10B over the last four quarters.CFO Luca Maestri reiterates that Apple grew in each of its top 15 markets with China up 19%. IPhone ASP was $724, up 20% Y/Y.Mac sales impacted by MacBook Pro refresh in Q4 instead of Q3.Apple now has $243.7B in cash plus marketable securities with a net cash position of $129.1B. Maestri reiterates the plan to reach net cash neutral over time.China tariffs: During the Q&A, Cook discusses performance in China and the potential impact of tariffs. Cook notes that no Apple products were affected by the tariffs so far, but the company is evaluating the fourth tariff for $200B in goods and will share their views with the Trump administration.Apple shares are now up 3.6% to $197.10 with the company inching closer to that coveted $1T market cap.Previously: Apple +2.4% on Q3 beats with Services at all-time high (July 31)\n"
     ]
    }
   ],
   "source": [
    "text10=''\n",
    "with open(\"C:\\\\Users\\\\shikh\\\\Desktop\\\\Practicum\\\\text10.txt\",\"r\") as text:\n",
    "    for line in text:                         \n",
    "        line = line.strip()\n",
    "        text10 += line\n",
    "print(text10)"
   ]
  },
  {
   "cell_type": "code",
   "execution_count": 48,
   "metadata": {},
   "outputs": [
    {
     "name": "stdout",
     "output_type": "stream",
     "text": [
      "POSITIVE COUNT:7\n",
      "NEGATIVE COUNT:0\n",
      "SUM IS:7\n"
     ]
    }
   ],
   "source": [
    "positive_sentiment=0\n",
    "negative_sentiment=0\n",
    "##defining clean(word) function for the purpose of removing special characters\n",
    "def clean(word):\n",
    "    symbols = ['!','@','#','$','%','_','^','&','*','(',')','-','+','=','?']\n",
    "    for symbol in symbols:\n",
    "        word = word.replace(symbol,'')\n",
    "    return word\n",
    "\n",
    "with open(\"C:\\\\Users\\\\shikh\\\\Desktop\\\\Practicum\\\\text10.txt\",'r') as tweets:            ###opening original tweet file\n",
    "    for line in tweets:                         \n",
    "        line = line.strip()                       ##stripping characters before and after the line\n",
    "        words = line.split()                      ## getting words from  the lines\n",
    "        for word in words:\n",
    "            word = word.lower()                 ##getting lower case of the word\n",
    "            word = clean(word)                  ##applying clean function to the words\n",
    "            if word not in stop_words:          ##check if word  is not in stop_words dictionary\n",
    "                if word in positive_words:      ## check if the word is in positive_words dictionary \n",
    "                    positive_sentiment = positive_sentiment +1       ###if yes add 1 to count of positive_tweets\n",
    "                elif word in negative_words:                    ##if no checck if the words is in negative_words dictionary\n",
    "                    negative_sentiment = negative_sentiment -1        ## if yes substract 1 from the count of negative_tweets\n",
    "    \n",
    "##concatenating string POSITIVE COUNT:with string of positive_tweets\n",
    "print(\"POSITIVE COUNT:\" + str(positive_sentiment))  \n",
    "##concatenating string NEGATIVE COUNT:with string of negative_tweets\n",
    "print(\"NEGATIVE COUNT:\" + str(negative_sentiment))           \n",
    "\n",
    "# Concatening and printing sum of positive and negative tweets:\n",
    "\n",
    "print(\"SUM IS:\" + str(positive_sentiment+negative_sentiment))"
   ]
  },
  {
   "cell_type": "code",
   "execution_count": 49,
   "metadata": {},
   "outputs": [
    {
     "name": "stdout",
     "output_type": "stream",
     "text": [
      "Sentiment(polarity=0.10287037037037038, subjectivity=0.4989814814814814)\n",
      "Sentiment is positive\n"
     ]
    }
   ],
   "source": [
    "analysis10=TextBlob(text10)\n",
    "print(analysis10.sentiment)\n",
    "\n",
    "a=analysis10.sentiment.polarity\n",
    "if a>0:\n",
    "    print(\"Sentiment is positive\")\n",
    "elif a==0:\n",
    "    print(\"Sentiment is neutral\")\n",
    "else:\n",
    "    print(\"Sentiment is negative\")"
   ]
  },
  {
   "cell_type": "code",
   "execution_count": 50,
   "metadata": {},
   "outputs": [
    {
     "name": "stdout",
     "output_type": "stream",
     "text": [
      "{'neg': 0.011, 'neu': 0.897, 'pos': 0.092, 'compound': 0.9472}\n",
      "Sentiment is positive\n"
     ]
    }
   ],
   "source": [
    "from vaderSentiment.vaderSentiment import SentimentIntensityAnalyzer\n",
    "analyzer = SentimentIntensityAnalyzer()\n",
    "vs10 = analyzer.polarity_scores(text10)\n",
    "print(vs10)\n",
    "\n",
    "b=analyzer.polarity_scores(text10)['compound']\n",
    "\n",
    "if b>=0.5:\n",
    "    print(\"Sentiment is positive\")\n",
    "elif(b>-0.5 & b<0.5):\n",
    "    print(\"Sentiment is neutral\")\n",
    "else:\n",
    "    print(\"Sentiment is negative\")"
   ]
  },
  {
   "cell_type": "code",
   "execution_count": 51,
   "metadata": {},
   "outputs": [
    {
     "name": "stdout",
     "output_type": "stream",
     "text": [
      "Apple +2.4% on Q3 beats with Services at all-time highJul. 31, 2018 4:48 PM ET|About: Apple Inc. (AAPL)|By: Brandy Betz, SA News EditorApple (NASDAQ:AAPL) gains 2.4% aftermarket on Q3 results that beat on EPS, revenue, guidance, ASP, and Services revenue for the best June quarter for the company.Q4 guidance: Revenue, $60B to $62B (consensus: $59.4B) with gross margin of 38% to 38.5% (consensus: 38.2%) and operating expenses from $7.95B to $8.05B.Device shipments: iPhone, 41.3M (consensus: 42M; last year: 41M); iPad, 11.5M (consensus: 11.2M; 11.2M last year); MAC, 3.7M (consensus: 4.3M; 4.3M last year).ASP: The iPhone ASP came in at $724 versus the $694 consensus estimate likely due to stronger iPhone X sales.Services: Services revenue grew 31% on the year to the all-time high $9.55B, above the $9.2B consensus.China performance: Geographic revenue was down across all regions Q/Q but up Y/Y. Greater China reported $9.55B in revenue, which was down 27% on the quarter but up 19% on the year.Capital allocation: Apple had announced a $100B share repurchase program in May. The company returned almost $25B to investors this quarter including $20B in share repurchases.Earnings call starts at 5 PM with a webcast available here.Press releasePreviously: Apple beats by $0.16, beats on revenue (July 31)Previously: Apple declares $0.73 dividend (July 31)\n"
     ]
    }
   ],
   "source": [
    "text11=''\n",
    "with open(\"C:\\\\Users\\\\shikh\\\\Desktop\\\\Practicum\\\\text11.txt\",\"r\") as text:\n",
    "    for line in text:                         \n",
    "        line = line.strip()\n",
    "        text11 += line\n",
    "print(text11)"
   ]
  },
  {
   "cell_type": "code",
   "execution_count": 52,
   "metadata": {},
   "outputs": [
    {
     "name": "stdout",
     "output_type": "stream",
     "text": [
      "POSITIVE COUNT:4\n",
      "NEGATIVE COUNT:-1\n",
      "SUM IS:3\n"
     ]
    }
   ],
   "source": [
    "positive_sentiment=0\n",
    "negative_sentiment=0\n",
    "##defining clean(word) function for the purpose of removing special characters\n",
    "def clean(word):\n",
    "    symbols = ['!','@','#','$','%','_','^','&','*','(',')','-','+','=','?']\n",
    "    for symbol in symbols:\n",
    "        word = word.replace(symbol,'')\n",
    "    return word\n",
    "\n",
    "with open(\"C:\\\\Users\\\\shikh\\\\Desktop\\\\Practicum\\\\text11.txt\",'r') as tweets:            ###opening original tweet file\n",
    "    for line in tweets:                         \n",
    "        line = line.strip()                       ##stripping characters before and after the line\n",
    "        words = line.split()                      ## getting words from  the lines\n",
    "        for word in words:\n",
    "            word = word.lower()                 ##getting lower case of the word\n",
    "            word = clean(word)                  ##applying clean function to the words\n",
    "            if word not in stop_words:          ##check if word  is not in stop_words dictionary\n",
    "                if word in positive_words:      ## check if the word is in positive_words dictionary \n",
    "                    positive_sentiment = positive_sentiment +1       ###if yes add 1 to count of positive_tweets\n",
    "                elif word in negative_words:                    ##if no checck if the words is in negative_words dictionary\n",
    "                    negative_sentiment = negative_sentiment -1        ## if yes substract 1 from the count of negative_tweets\n",
    "    \n",
    "##concatenating string POSITIVE COUNT:with string of positive_tweets\n",
    "print(\"POSITIVE COUNT:\" + str(positive_sentiment))  \n",
    "##concatenating string NEGATIVE COUNT:with string of negative_tweets\n",
    "print(\"NEGATIVE COUNT:\" + str(negative_sentiment))           \n",
    "\n",
    "# Concatening and printing sum of positive and negative tweets:\n",
    "\n",
    "print(\"SUM IS:\" + str(positive_sentiment+negative_sentiment))"
   ]
  },
  {
   "cell_type": "code",
   "execution_count": 54,
   "metadata": {},
   "outputs": [
    {
     "name": "stdout",
     "output_type": "stream",
     "text": [
      "Sentiment(polarity=0.1249145299145299, subjectivity=0.3071367521367521)\n",
      "Sentiment is positive\n"
     ]
    }
   ],
   "source": [
    "analysis11=TextBlob(text11)\n",
    "print(analysis11.sentiment)\n",
    "\n",
    "a=analysis11.sentiment.polarity\n",
    "if a>0:\n",
    "    print(\"Sentiment is positive\")\n",
    "elif a==0:\n",
    "    print(\"Sentiment is neutral\")\n",
    "else:\n",
    "    print(\"Sentiment is negative\")"
   ]
  },
  {
   "cell_type": "code",
   "execution_count": 55,
   "metadata": {},
   "outputs": [
    {
     "name": "stdout",
     "output_type": "stream",
     "text": [
      "{'neg': 0.009, 'neu': 0.921, 'pos': 0.069, 'compound': 0.8979}\n",
      "Sentiment is positive\n"
     ]
    }
   ],
   "source": [
    "from vaderSentiment.vaderSentiment import SentimentIntensityAnalyzer\n",
    "analyzer = SentimentIntensityAnalyzer()\n",
    "vs11 = analyzer.polarity_scores(text11)\n",
    "print(vs11)\n",
    "\n",
    "b=analyzer.polarity_scores(text11)['compound']\n",
    "\n",
    "if b>=0.5:\n",
    "    print(\"Sentiment is positive\")\n",
    "elif(b>-0.5 & b<0.5):\n",
    "    print(\"Sentiment is neutral\")\n",
    "else:\n",
    "    print(\"Sentiment is negative\")"
   ]
  },
  {
   "cell_type": "code",
   "execution_count": 56,
   "metadata": {},
   "outputs": [
    {
     "name": "stdout",
     "output_type": "stream",
     "text": [
      "The Intercept: Google plans censored search in China; Baidu -7.6%Aug. 1, 2018 7:45 AM ET|By: Brandy Betz, SA News EditorGoogle (GOOG, GOOGL) reportedly plans to launch a censored version of its search engine in China.The company had exited the market in 2010 due to the government’s attempts to “limit free speech on the web.”The Intercept has internal documents from a whistleblower that show Google has developed the censored version, codenamed Dragonfly, since early last year.Dragonfly is still an Android app but will “blacklist sensitive queries” and block websites not permitted by China’s censors.In a statement to The Verge, a Google spokesperson says the company doesn’t comment on speculated future plans.Baidu (NASDAQ:BIDU) shares trade down 7.6% following the news, erasing gains from the aftermarket earnings report.Previously: Baidu +3.6% after Q2 tops high-end estimates (July 31)\n"
     ]
    }
   ],
   "source": [
    "text12=''\n",
    "with open(\"C:\\\\Users\\\\shikh\\\\Desktop\\\\Practicum\\\\text12.txt\",\"r\") as text:\n",
    "    for line in text:                         \n",
    "        line = line.strip()\n",
    "        text12 += line\n",
    "print(text12)"
   ]
  },
  {
   "cell_type": "code",
   "execution_count": 57,
   "metadata": {},
   "outputs": [
    {
     "name": "stdout",
     "output_type": "stream",
     "text": [
      "POSITIVE COUNT:4\n",
      "NEGATIVE COUNT:0\n",
      "SUM IS:4\n"
     ]
    }
   ],
   "source": [
    "positive_sentiment=0\n",
    "negative_sentiment=0\n",
    "##defining clean(word) function for the purpose of removing special characters\n",
    "def clean(word):\n",
    "    symbols = ['!','@','#','$','%','_','^','&','*','(',')','-','+','=','?']\n",
    "    for symbol in symbols:\n",
    "        word = word.replace(symbol,'')\n",
    "    return word\n",
    "\n",
    "with open(\"C:\\\\Users\\\\shikh\\\\Desktop\\\\Practicum\\\\text12.txt\",'r') as tweets:            ###opening original tweet file\n",
    "    for line in tweets:                         \n",
    "        line = line.strip()                       ##stripping characters before and after the line\n",
    "        words = line.split()                      ## getting words from  the lines\n",
    "        for word in words:\n",
    "            word = word.lower()                 ##getting lower case of the word\n",
    "            word = clean(word)                  ##applying clean function to the words\n",
    "            if word not in stop_words:          ##check if word  is not in stop_words dictionary\n",
    "                if word in positive_words:      ## check if the word is in positive_words dictionary \n",
    "                    positive_sentiment = positive_sentiment +1       ###if yes add 1 to count of positive_tweets\n",
    "                elif word in negative_words:                    ##if no checck if the words is in negative_words dictionary\n",
    "                    negative_sentiment = negative_sentiment -1        ## if yes substract 1 from the count of negative_tweets\n",
    "    \n",
    "##concatenating string POSITIVE COUNT:with string of positive_tweets\n",
    "print(\"POSITIVE COUNT:\" + str(positive_sentiment))  \n",
    "##concatenating string NEGATIVE COUNT:with string of negative_tweets\n",
    "print(\"NEGATIVE COUNT:\" + str(negative_sentiment))           \n",
    "\n",
    "# Concatening and printing sum of positive and negative tweets:\n",
    "\n",
    "print(\"SUM IS:\" + str(positive_sentiment+negative_sentiment))"
   ]
  },
  {
   "cell_type": "code",
   "execution_count": 58,
   "metadata": {},
   "outputs": [
    {
     "name": "stdout",
     "output_type": "stream",
     "text": [
      "Sentiment(polarity=0.04194444444444444, subjectivity=0.32555555555555554)\n",
      "Sentiment is positive\n"
     ]
    }
   ],
   "source": [
    "analysis12=TextBlob(text12)\n",
    "print(analysis12.sentiment)\n",
    "\n",
    "a=analysis12.sentiment.polarity\n",
    "if a>0:\n",
    "    print(\"Sentiment is positive\")\n",
    "elif a==0:\n",
    "    print(\"Sentiment is neutral\")\n",
    "else:\n",
    "    print(\"Sentiment is negative\")"
   ]
  },
  {
   "cell_type": "code",
   "execution_count": 59,
   "metadata": {},
   "outputs": [
    {
     "name": "stdout",
     "output_type": "stream",
     "text": [
      "{'neg': 0.054, 'neu': 0.858, 'pos': 0.088, 'compound': 0.775}\n",
      "Sentiment is positive\n"
     ]
    }
   ],
   "source": [
    "from vaderSentiment.vaderSentiment import SentimentIntensityAnalyzer\n",
    "analyzer = SentimentIntensityAnalyzer()\n",
    "vs12 = analyzer.polarity_scores(text12)\n",
    "print(vs12)\n",
    "\n",
    "b=analyzer.polarity_scores(text12)['compound']\n",
    "\n",
    "if b>=0.5:\n",
    "    print(\"Sentiment is positive\")\n",
    "elif(b>-0.5 & b<0.5):\n",
    "    print(\"Sentiment is neutral\")\n",
    "else:\n",
    "    print(\"Sentiment is negative\")"
   ]
  },
  {
   "cell_type": "code",
   "execution_count": 60,
   "metadata": {},
   "outputs": [
    {
     "name": "stdout",
     "output_type": "stream",
     "text": [
      "The Information: Capital One switches from Microsoft to Google cloud productsJul. 31, 2018 2:21 PM ET|About: Capital One Financial Corpo... (COF)|By: Brandy Betz, SA News EditorCapital One (COF +0.4%) is moving over 40K employees from Microsoft’s (MSFT +0.7%) cloud email and productivity apps to Google’s (GOOG +0.3%)(GOOGL +0.2%) products, according to The Information sources.A Capital One spokeswoman later confirmed the deal.IDC expects worldwide public cloud spending to grow from $17.4B this year to $38.1B by 2022. Microsoft has historically held the second spot in the market behind Amazon Web Services.\n"
     ]
    }
   ],
   "source": [
    "text13=''\n",
    "with open(\"C:\\\\Users\\\\shikh\\\\Desktop\\\\Practicum\\\\text13.txt\",\"r\") as text:\n",
    "    for line in text:                         \n",
    "        line = line.strip()\n",
    "        text13 += line\n",
    "print(text13)"
   ]
  },
  {
   "cell_type": "code",
   "execution_count": 61,
   "metadata": {},
   "outputs": [
    {
     "name": "stdout",
     "output_type": "stream",
     "text": [
      "POSITIVE COUNT:0\n",
      "NEGATIVE COUNT:-3\n",
      "SUM IS:-3\n"
     ]
    }
   ],
   "source": [
    "positive_sentiment=0\n",
    "negative_sentiment=0\n",
    "##defining clean(word) function for the purpose of removing special characters\n",
    "def clean(word):\n",
    "    symbols = ['!','@','#','$','%','_','^','&','*','(',')','-','+','=','?']\n",
    "    for symbol in symbols:\n",
    "        word = word.replace(symbol,'')\n",
    "    return word\n",
    "\n",
    "with open(\"C:\\\\Users\\\\shikh\\\\Desktop\\\\Practicum\\\\text13.txt\",'r') as tweets:            ###opening original tweet file\n",
    "    for line in tweets:                         \n",
    "        line = line.strip()                       ##stripping characters before and after the line\n",
    "        words = line.split()                      ## getting words from  the lines\n",
    "        for word in words:\n",
    "            word = word.lower()                 ##getting lower case of the word\n",
    "            word = clean(word)                  ##applying clean function to the words\n",
    "            if word not in stop_words:          ##check if word  is not in stop_words dictionary\n",
    "                if word in positive_words:      ## check if the word is in positive_words dictionary \n",
    "                    positive_sentiment = positive_sentiment +1       ###if yes add 1 to count of positive_tweets\n",
    "                elif word in negative_words:                    ##if no checck if the words is in negative_words dictionary\n",
    "                    negative_sentiment = negative_sentiment -1        ## if yes substract 1 from the count of negative_tweets\n",
    "    \n",
    "##concatenating string POSITIVE COUNT:with string of positive_tweets\n",
    "print(\"POSITIVE COUNT:\" + str(positive_sentiment))  \n",
    "##concatenating string NEGATIVE COUNT:with string of negative_tweets\n",
    "print(\"NEGATIVE COUNT:\" + str(negative_sentiment))           \n",
    "\n",
    "# Concatening and printing sum of positive and negative tweets:\n",
    "\n",
    "print(\"SUM IS:\" + str(positive_sentiment+negative_sentiment))"
   ]
  },
  {
   "cell_type": "code",
   "execution_count": 62,
   "metadata": {},
   "outputs": [
    {
     "name": "stdout",
     "output_type": "stream",
     "text": [
      "Sentiment(polarity=0.0, subjectivity=0.2523809523809524)\n",
      "Sentiment is neutral\n"
     ]
    }
   ],
   "source": [
    "analysis13=TextBlob(text13)\n",
    "print(analysis13.sentiment)\n",
    "\n",
    "a=analysis13.sentiment.polarity\n",
    "if a>0:\n",
    "    print(\"Sentiment is positive\")\n",
    "elif a==0:\n",
    "    print(\"Sentiment is neutral\")\n",
    "else:\n",
    "    print(\"Sentiment is negative\")"
   ]
  },
  {
   "cell_type": "code",
   "execution_count": 64,
   "metadata": {},
   "outputs": [
    {
     "name": "stdout",
     "output_type": "stream",
     "text": [
      "{'neg': 0.0, 'neu': 0.981, 'pos': 0.019, 'compound': 0.1779}\n",
      "Sentiment is neutral\n"
     ]
    }
   ],
   "source": [
    "from vaderSentiment.vaderSentiment import SentimentIntensityAnalyzer\n",
    "analyzer = SentimentIntensityAnalyzer()\n",
    "vs13 = analyzer.polarity_scores(text13)\n",
    "print(vs13)\n",
    "\n",
    "b=analyzer.polarity_scores(text13)['compound']\n",
    "\n",
    "if b>=0.5:\n",
    "    print(\"Sentiment is positive\")\n",
    "elif((b>-0.5) & (b<0.5)):\n",
    "    print(\"Sentiment is neutral\")\n",
    "elif(b<=-.5):\n",
    "    print(\"Sentiment is negative\")"
   ]
  },
  {
   "cell_type": "code",
   "execution_count": 65,
   "metadata": {},
   "outputs": [
    {
     "name": "stdout",
     "output_type": "stream",
     "text": [
      "Waymo partners with Phoenix public transitJul. 31, 2018 2:11 PM ET|By: Brandy Betz, SA News EditorWaymo (GOOG +0.2%)(GOOGL +0.2%) is partnering with Phoenix, Arizona’s public transportation authority. Waymo self-driving vehicles will deliver passengers to bus stops and train and rail stations.The test program will involve employees of the Valley Metro transit authority.Waymo will expand the program to included first-and-last mile travel to members of Valley Metro RideChoice, who are traditionally underserved by public transit.Last week, Waymo announced partnerships with Walmart, Avis, and Autonation to drive customers.Previously: Waymo cars will drive customers to Walmart (July 25)\n"
     ]
    }
   ],
   "source": [
    "text14=''\n",
    "with open(\"C:\\\\Users\\\\shikh\\\\Desktop\\\\Practicum\\\\text14.txt\",\"r\") as text:\n",
    "    for line in text:                         \n",
    "        line = line.strip()\n",
    "        text14 += line\n",
    "print(text14)"
   ]
  },
  {
   "cell_type": "code",
   "execution_count": 66,
   "metadata": {},
   "outputs": [
    {
     "name": "stdout",
     "output_type": "stream",
     "text": [
      "POSITIVE COUNT:0\n",
      "NEGATIVE COUNT:-1\n",
      "SUM IS:-1\n"
     ]
    }
   ],
   "source": [
    "positive_sentiment=0\n",
    "negative_sentiment=0\n",
    "##defining clean(word) function for the purpose of removing special characters\n",
    "def clean(word):\n",
    "    symbols = ['!','@','#','$','%','_','^','&','*','(',')','-','+','=','?']\n",
    "    for symbol in symbols:\n",
    "        word = word.replace(symbol,'')\n",
    "    return word\n",
    "\n",
    "with open(\"C:\\\\Users\\\\shikh\\\\Desktop\\\\Practicum\\\\text14.txt\",'r') as tweets:            ###opening original tweet file\n",
    "    for line in tweets:                         \n",
    "        line = line.strip()                       ##stripping characters before and after the line\n",
    "        words = line.split()                      ## getting words from  the lines\n",
    "        for word in words:\n",
    "            word = word.lower()                 ##getting lower case of the word\n",
    "            word = clean(word)                  ##applying clean function to the words\n",
    "            if word not in stop_words:          ##check if word  is not in stop_words dictionary\n",
    "                if word in positive_words:      ## check if the word is in positive_words dictionary \n",
    "                    positive_sentiment = positive_sentiment +1       ###if yes add 1 to count of positive_tweets\n",
    "                elif word in negative_words:                    ##if no checck if the words is in negative_words dictionary\n",
    "                    negative_sentiment = negative_sentiment -1        ## if yes substract 1 from the count of negative_tweets\n",
    "    \n",
    "##concatenating string POSITIVE COUNT:with string of positive_tweets\n",
    "print(\"POSITIVE COUNT:\" + str(positive_sentiment))  \n",
    "##concatenating string NEGATIVE COUNT:with string of negative_tweets\n",
    "print(\"NEGATIVE COUNT:\" + str(negative_sentiment))           \n",
    "\n",
    "# Concatening and printing sum of positive and negative tweets:\n",
    "\n",
    "print(\"SUM IS:\" + str(positive_sentiment+negative_sentiment))"
   ]
  },
  {
   "cell_type": "code",
   "execution_count": 68,
   "metadata": {},
   "outputs": [
    {
     "name": "stdout",
     "output_type": "stream",
     "text": [
      "Sentiment(polarity=0.0, subjectivity=0.2375)\n",
      "Sentiment is neutral\n"
     ]
    }
   ],
   "source": [
    "analysis14=TextBlob(text14)\n",
    "print(analysis14.sentiment)\n",
    "\n",
    "a=analysis14.sentiment.polarity\n",
    "if a>0:\n",
    "    print(\"Sentiment is positive\")\n",
    "elif a==0:\n",
    "    print(\"Sentiment is neutral\")\n",
    "else:\n",
    "    print(\"Sentiment is negative\")"
   ]
  },
  {
   "cell_type": "code",
   "execution_count": 70,
   "metadata": {},
   "outputs": [
    {
     "name": "stdout",
     "output_type": "stream",
     "text": [
      "{'neg': 0.016, 'neu': 0.947, 'pos': 0.037, 'compound': 0.25}\n",
      "Sentiment is neutral\n"
     ]
    }
   ],
   "source": [
    "from vaderSentiment.vaderSentiment import SentimentIntensityAnalyzer\n",
    "analyzer = SentimentIntensityAnalyzer()\n",
    "vs14  = analyzer.polarity_scores(text14)\n",
    "print(vs14)\n",
    "\n",
    "b=analyzer.polarity_scores(text14)['compound']\n",
    "\n",
    "if b>=0.5:\n",
    "    print(\"Sentiment is positive\")\n",
    "elif((b>-0.5) & (b<0.5)):\n",
    "    print(\"Sentiment is neutral\")\n",
    "elif(b<=-.5):\n",
    "    print(\"Sentiment is negative\")"
   ]
  },
  {
   "cell_type": "code",
   "execution_count": 84,
   "metadata": {},
   "outputs": [
    {
     "name": "stdout",
     "output_type": "stream",
     "text": [
      "Google promotes general counsel to SVP Global AffairsJul. 30, 2018 2:12 PM ET|By: Brandy Betz, SA News EditorGoogle (GOOG -1.1%)(GOOGL -1.4%) promotes SVP and general counsel Kent Walker to SVP of Global Affairs.Walker will oversee policy, legal, trust and safety, and corporate philanthropy teams.Walker played a role in creating the AI principles Google published last month after concerns about the Pentagon using its AI to analyze drone footage.Google is still working to fill Walker’s vacated general counsel seat.\n"
     ]
    }
   ],
   "source": [
    "text15=''\n",
    "with open(\"C:\\\\Users\\\\shikh\\\\Desktop\\\\Practicum\\\\text15.txt\",\"r\") as text:\n",
    "    for line in text:                         \n",
    "        line = line.strip()\n",
    "        text15 += line\n",
    "print(text15)"
   ]
  },
  {
   "cell_type": "code",
   "execution_count": 72,
   "metadata": {},
   "outputs": [
    {
     "name": "stdout",
     "output_type": "stream",
     "text": [
      "POSITIVE COUNT:1\n",
      "NEGATIVE COUNT:-1\n",
      "SUM IS:0\n"
     ]
    }
   ],
   "source": [
    "positive_sentiment=0\n",
    "negative_sentiment=0\n",
    "##defining clean(word) function for the purpose of removing special characters\n",
    "def clean(word):\n",
    "    symbols = ['!','@','#','$','%','_','^','&','*','(',')','-','+','=','?']\n",
    "    for symbol in symbols:\n",
    "        word = word.replace(symbol,'')\n",
    "    return word\n",
    "\n",
    "with open(\"C:\\\\Users\\\\shikh\\\\Desktop\\\\Practicum\\\\text15.txt\",'r') as tweets:            ###opening original tweet file\n",
    "    for line in tweets:                         \n",
    "        line = line.strip()                       ##stripping characters before and after the line\n",
    "        words = line.split()                      ## getting words from  the lines\n",
    "        for word in words:\n",
    "            word = word.lower()                 ##getting lower case of the word\n",
    "            word = clean(word)                  ##applying clean function to the words\n",
    "            if word not in stop_words:          ##check if word  is not in stop_words dictionary\n",
    "                if word in positive_words:      ## check if the word is in positive_words dictionary \n",
    "                    positive_sentiment = positive_sentiment +1       ###if yes add 1 to count of positive_tweets\n",
    "                elif word in negative_words:                    ##if no checck if the words is in negative_words dictionary\n",
    "                    negative_sentiment = negative_sentiment -1        ## if yes substract 1 from the count of negative_tweets\n",
    "    \n",
    "##concatenating string POSITIVE COUNT:with string of positive_tweets\n",
    "print(\"POSITIVE COUNT:\" + str(positive_sentiment))  \n",
    "##concatenating string NEGATIVE COUNT:with string of negative_tweets\n",
    "print(\"NEGATIVE COUNT:\" + str(negative_sentiment))           \n",
    "\n",
    "# Concatening and printing sum of positive and negative tweets:\n",
    "\n",
    "print(\"SUM IS:\" + str(positive_sentiment+negative_sentiment))"
   ]
  },
  {
   "cell_type": "code",
   "execution_count": 85,
   "metadata": {},
   "outputs": [
    {
     "name": "stdout",
     "output_type": "stream",
     "text": [
      "Sentiment(polarity=0.04375000000000001, subjectivity=0.22083333333333333)\n",
      "Sentiment is positive\n"
     ]
    }
   ],
   "source": [
    "analysis15=TextBlob(text15)\n",
    "print(analysis15.sentiment)\n",
    "\n",
    "a=analysis15.sentiment.polarity\n",
    "if a>0:\n",
    "    print(\"Sentiment is positive\")\n",
    "elif a==0:\n",
    "    print(\"Sentiment is neutral\")\n",
    "else:\n",
    "    print(\"Sentiment is negative\")"
   ]
  },
  {
   "cell_type": "code",
   "execution_count": 86,
   "metadata": {},
   "outputs": [
    {
     "name": "stdout",
     "output_type": "stream",
     "text": [
      "{'neg': 0.0, 'neu': 0.805, 'pos': 0.195, 'compound': 0.9325}\n",
      "Sentiment is positive\n"
     ]
    }
   ],
   "source": [
    "from vaderSentiment.vaderSentiment import SentimentIntensityAnalyzer\n",
    "analyzer = SentimentIntensityAnalyzer()\n",
    "vs15 = analyzer.polarity_scores(text15)\n",
    "print(vs15)\n",
    "\n",
    "b=analyzer.polarity_scores(text15)['compound']\n",
    "\n",
    "if b>=0.5:\n",
    "    print(\"Sentiment is positive\")\n",
    "elif(b>-0.5 & b<0.5):\n",
    "    print(\"Sentiment is neutral\")\n",
    "else:\n",
    "    print(\"Sentiment is negative\")"
   ]
  },
  {
   "cell_type": "code",
   "execution_count": 87,
   "metadata": {},
   "outputs": [
    {
     "name": "stdout",
     "output_type": "stream",
     "text": [
      "UK lawmakers: Hold tech firms liable for fake newsJul. 28, 2018 5:13 PM ET|By: Jason Aycock, SA News EditorTech firms (and particularly social media) should be held liable for \"harmful and misleading\" material spread on their platforms, UK lawmakers say, and should pay a levy to enable regulation.\"Companies like Facebook (NASDAQ:FB) made it easy for developers to scrape user data and to deploy it in other campaigns without their knowledge or consent,\" says media committee chairman Damian Collins. \"They must be made responsible, and liable, for the way in which harmful and misleading content is shared on their sites.\"That's part of an interim committee report that leaked early, which suggested that standards for online firms could be modeled after existing ones for television and radio.The full report is due in the fall.\n"
     ]
    }
   ],
   "source": [
    "text16=''\n",
    "with open(\"C:\\\\Users\\\\shikh\\\\Desktop\\\\Practicum\\\\text16.txt\",\"r\") as text:\n",
    "    for line in text:                         \n",
    "        line = line.strip()\n",
    "        text16 += line\n",
    "print(text16)"
   ]
  },
  {
   "cell_type": "code",
   "execution_count": 88,
   "metadata": {},
   "outputs": [
    {
     "name": "stdout",
     "output_type": "stream",
     "text": [
      "POSITIVE COUNT:1\n",
      "NEGATIVE COUNT:-5\n",
      "SUM IS:-4\n"
     ]
    }
   ],
   "source": [
    "positive_sentiment=0\n",
    "negative_sentiment=0\n",
    "##defining clean(word) function for the purpose of removing special characters\n",
    "def clean(word):\n",
    "    symbols = ['!','@','#','$','%','_','^','&','*','(',')','-','+','=','?']\n",
    "    for symbol in symbols:\n",
    "        word = word.replace(symbol,'')\n",
    "    return word\n",
    "\n",
    "with open(\"C:\\\\Users\\\\shikh\\\\Desktop\\\\Practicum\\\\text16.txt\",'r') as tweets:            ###opening original tweet file\n",
    "    for line in tweets:                         \n",
    "        line = line.strip()                       ##stripping characters before and after the line\n",
    "        words = line.split()                      ## getting words from  the lines\n",
    "        for word in words:\n",
    "            word = word.lower()                 ##getting lower case of the word\n",
    "            word = clean(word)                  ##applying clean function to the words\n",
    "            if word not in stop_words:          ##check if word  is not in stop_words dictionary\n",
    "                if word in positive_words:      ## check if the word is in positive_words dictionary \n",
    "                    positive_sentiment = positive_sentiment +1       ###if yes add 1 to count of positive_tweets\n",
    "                elif word in negative_words:                    ##if no checck if the words is in negative_words dictionary\n",
    "                    negative_sentiment = negative_sentiment -1        ## if yes substract 1 from the count of negative_tweets\n",
    "    \n",
    "##concatenating string POSITIVE COUNT:with string of positive_tweets\n",
    "print(\"POSITIVE COUNT:\" + str(positive_sentiment))  \n",
    "##concatenating string NEGATIVE COUNT:with string of negative_tweets\n",
    "print(\"NEGATIVE COUNT:\" + str(negative_sentiment))           \n",
    "\n",
    "# Concatening and printing sum of positive and negative tweets:\n",
    "\n",
    "print(\"SUM IS:\" + str(positive_sentiment+negative_sentiment))"
   ]
  },
  {
   "cell_type": "code",
   "execution_count": 89,
   "metadata": {},
   "outputs": [
    {
     "name": "stdout",
     "output_type": "stream",
     "text": [
      "Sentiment(polarity=0.0060606060606060615, subjectivity=0.5045454545454545)\n",
      "Sentiment is positive\n"
     ]
    }
   ],
   "source": [
    "analysis16=TextBlob(text16)\n",
    "print(analysis16.sentiment)\n",
    "\n",
    "a=analysis16.sentiment.polarity\n",
    "if a>0:\n",
    "    print(\"Sentiment is positive\")\n",
    "elif a==0:\n",
    "    print(\"Sentiment is neutral\")\n",
    "else:\n",
    "    print(\"Sentiment is negative\")"
   ]
  },
  {
   "cell_type": "code",
   "execution_count": 90,
   "metadata": {},
   "outputs": [
    {
     "name": "stdout",
     "output_type": "stream",
     "text": [
      "{'neg': 0.085, 'neu': 0.845, 'pos': 0.07, 'compound': -0.2732}\n",
      "Sentiment is neutral\n"
     ]
    }
   ],
   "source": [
    "from vaderSentiment.vaderSentiment import SentimentIntensityAnalyzer\n",
    "analyzer = SentimentIntensityAnalyzer()\n",
    "vs16 = analyzer.polarity_scores(text16)\n",
    "print(vs16)\n",
    "\n",
    "b=analyzer.polarity_scores(text16)['compound']\n",
    "\n",
    "if b>=0.5:\n",
    "    print(\"Sentiment is positive\")\n",
    "elif((b>-0.5) & (b<0.5)):\n",
    "    print(\"Sentiment is neutral\")\n",
    "elif(b<=-.5):\n",
    "    print(\"Sentiment is negative\")"
   ]
  },
  {
   "cell_type": "code",
   "execution_count": null,
   "metadata": {},
   "outputs": [],
   "source": []
  }
 ],
 "metadata": {
  "kernelspec": {
   "display_name": "Python 3",
   "language": "python",
   "name": "python3"
  },
  "language_info": {
   "codemirror_mode": {
    "name": "ipython",
    "version": 3
   },
   "file_extension": ".py",
   "mimetype": "text/x-python",
   "name": "python",
   "nbconvert_exporter": "python",
   "pygments_lexer": "ipython3",
   "version": "3.6.5"
  }
 },
 "nbformat": 4,
 "nbformat_minor": 1
}
