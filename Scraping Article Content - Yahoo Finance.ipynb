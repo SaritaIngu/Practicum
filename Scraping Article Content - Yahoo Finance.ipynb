{
 "cells": [
  {
   "cell_type": "code",
   "execution_count": 11,
   "metadata": {
    "scrolled": true
   },
   "outputs": [
    {
     "data": {
      "text/plain": [
       "'The company logged a 26% gain in second-quarter revenues and better-than-expected earnings.  The company’s shares (GOOGL), which have lagged those of Amazon.com (AMZN) and Facebook (FB) so far this year, gained $47.15, or 3.9%, Tuesday to $1,258.15 after hitting a record high of $1,275 earlier in the day.  The stock now is up 19% this year, behind Amazon’s 56% advance and Facebook’s 21% rise.'"
      ]
     },
     "execution_count": 11,
     "metadata": {},
     "output_type": "execute_result"
    }
   ],
   "source": [
    "import bs4 as bs\n",
    "import csv\n",
    "import requests\n",
    "import urllib\n",
    "\n",
    "from urllib.request import urlopen\n",
    "url = \"https://finance.yahoo.com/m/ae2e3803-e5c4-34ef-82e4-bcc5ec67b186/%5B%24%24%5D-alphabet%2C-up-19%25-in.html\"\n",
    " #print(url)\n",
    "    \n",
    "req = urllib.request.Request(url, headers={'User-Agent': 'IE9'})\n",
    "sourcehtml = urlopen(req)\n",
    "#print(sourcehtml)\n",
    "soup = bs.BeautifulSoup(sourcehtml,\"lxml\")\n",
    "pbullets = soup.findAll(\"p\", {\"data-type\": \"text\"})\n",
    "strContent=''\n",
    "\n",
    "for bullet in pbullets:\n",
    "     bulletHolder = bullet.get_text().strip() \n",
    "     strContent = strContent + bulletHolder \n",
    "    \n",
    "strContent\n",
    "     "
   ]
  }
 ],
 "metadata": {
  "kernelspec": {
   "display_name": "Python 3",
   "language": "python",
   "name": "python3"
  },
  "language_info": {
   "codemirror_mode": {
    "name": "ipython",
    "version": 3
   },
   "file_extension": ".py",
   "mimetype": "text/x-python",
   "name": "python",
   "nbconvert_exporter": "python",
   "pygments_lexer": "ipython3",
   "version": "3.6.2"
  }
 },
 "nbformat": 4,
 "nbformat_minor": 2
}
