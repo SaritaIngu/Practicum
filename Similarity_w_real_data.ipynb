{
 "cells": [
  {
   "cell_type": "code",
   "execution_count": 7,
   "metadata": {},
   "outputs": [],
   "source": [
    "import sklearn\n",
    "# Import all of the scikit learn stuff\n",
    "from __future__ import print_function\n",
    "from sklearn.decomposition import TruncatedSVD\n",
    "from sklearn.feature_extraction.text import TfidfVectorizer\n",
    "from sklearn.feature_extraction.text import CountVectorizer\n",
    "from sklearn.preprocessing import Normalizer\n",
    "from sklearn import metrics\n",
    "from sklearn.cluster import KMeans, MiniBatchKMeans\n",
    "import pandas as pd\n",
    "import numpy as np\n",
    "import string\n",
    "from sklearn.metrics.pairwise import cosine_similarity\n",
    "from matplotlib import pyplot as plt\n",
    "from scipy.cluster.hierarchy import dendrogram, linkage, fcluster"
   ]
  },
  {
   "cell_type": "code",
   "execution_count": 48,
   "metadata": {},
   "outputs": [],
   "source": [
    "df = pd.read_csv(\"WSJoutput5.csv\",header = None, encoding = \"ISO-8859-1\")"
   ]
  },
  {
   "cell_type": "code",
   "execution_count": 49,
   "metadata": {},
   "outputs": [
    {
     "data": {
      "text/html": [
       "<div>\n",
       "<style scoped>\n",
       "    .dataframe tbody tr th:only-of-type {\n",
       "        vertical-align: middle;\n",
       "    }\n",
       "\n",
       "    .dataframe tbody tr th {\n",
       "        vertical-align: top;\n",
       "    }\n",
       "\n",
       "    .dataframe thead th {\n",
       "        text-align: right;\n",
       "    }\n",
       "</style>\n",
       "<table border=\"1\" class=\"dataframe\">\n",
       "  <thead>\n",
       "    <tr style=\"text-align: right;\">\n",
       "      <th></th>\n",
       "      <th>0</th>\n",
       "      <th>1</th>\n",
       "      <th>2</th>\n",
       "      <th>3</th>\n",
       "      <th>4</th>\n",
       "    </tr>\n",
       "  </thead>\n",
       "  <tbody>\n",
       "    <tr>\n",
       "      <th>0</th>\n",
       "      <td>TSLA</td>\n",
       "      <td>07/31/2018 21:59</td>\n",
       "      <td>Tesla shareholders, buckle up  given how Elon...</td>\n",
       "      <td>http://www.marketwatch.com/story/tesla-shareho...</td>\n",
       "      <td>Heres a big question Id be asking if I owned...</td>\n",
       "    </tr>\n",
       "    <tr>\n",
       "      <th>1</th>\n",
       "      <td>TSLA</td>\n",
       "      <td>07/31/2018 18:59</td>\n",
       "      <td>Tesla says it did not ask suppliers for cash back</td>\n",
       "      <td>http://www.marketwatch.com/story/tesla-says-it...</td>\n",
       "      <td>Tesla responded on Monday to a Wall Street Jou...</td>\n",
       "    </tr>\n",
       "    <tr>\n",
       "      <th>2</th>\n",
       "      <td>TSLA</td>\n",
       "      <td>07/31/2018 10:59</td>\n",
       "      <td>Ex-SolarCity workers sue Tesla, claiming it in...</td>\n",
       "      <td>http://www.marketwatch.com/story/ex-solarcity-...</td>\n",
       "      <td>Three former SolarCity Corp. employees have fi...</td>\n",
       "    </tr>\n",
       "    <tr>\n",
       "      <th>3</th>\n",
       "      <td>TSLA</td>\n",
       "      <td>07/31/2018 07:59</td>\n",
       "      <td>Elon Musk: A Deep Dive into the Tesla Chiefs ...</td>\n",
       "      <td>https://www.barrons.com/articles/elon-musk-a-d...</td>\n",
       "      <td>Heres the deep dive on Elon Musk tweets you d...</td>\n",
       "    </tr>\n",
       "    <tr>\n",
       "      <th>4</th>\n",
       "      <td>TSLA</td>\n",
       "      <td>07/31/2018 06:59</td>\n",
       "      <td>Thinking about buying stock in Advanced Micro ...</td>\n",
       "      <td>http://www.wsj.com/articles/PR-CO-20180731-912859</td>\n",
       "      <td>NaN</td>\n",
       "    </tr>\n",
       "    <tr>\n",
       "      <th>5</th>\n",
       "      <td>GOOG</td>\n",
       "      <td>07/31/2018 11:59</td>\n",
       "      <td>Waymos driverless cars will give you a ride t...</td>\n",
       "      <td>http://www.marketwatch.com/story/waymos-driver...</td>\n",
       "      <td>Alphabet Inc.s Waymo will use its self-drivin...</td>\n",
       "    </tr>\n",
       "    <tr>\n",
       "      <th>6</th>\n",
       "      <td>GOOG</td>\n",
       "      <td>07/31/2018 10:59</td>\n",
       "      <td>After a decade of wins, the end may be near fo...</td>\n",
       "      <td>http://www.marketwatch.com/story/after-a-decad...</td>\n",
       "      <td>For years, one of the most successful trades i...</td>\n",
       "    </tr>\n",
       "    <tr>\n",
       "      <th>7</th>\n",
       "      <td>GOOG</td>\n",
       "      <td>07/30/18</td>\n",
       "      <td>Fear the FAANG stocks? Heres a better S&amp;P 500...</td>\n",
       "      <td>http://www.marketwatch.com/story/fear-the-faan...</td>\n",
       "      <td>The 20% decline in Facebooks stock Thursday a...</td>\n",
       "    </tr>\n",
       "    <tr>\n",
       "      <th>8</th>\n",
       "      <td>GOOG</td>\n",
       "      <td>07/28/18</td>\n",
       "      <td>Weekend roundup: Facebooks flogging | Amazon...</td>\n",
       "      <td>http://www.marketwatch.com/story/weekend-round...</td>\n",
       "      <td>MarketWatch rounds up 10 of its most interesti...</td>\n",
       "    </tr>\n",
       "    <tr>\n",
       "      <th>9</th>\n",
       "      <td>GOOG</td>\n",
       "      <td>07/28/18</td>\n",
       "      <td>Esports go prime time this weekend, and thats...</td>\n",
       "      <td>http://www.marketwatch.com/story/esports-go-pr...</td>\n",
       "      <td>Someday, well look back on this summer as a t...</td>\n",
       "    </tr>\n",
       "    <tr>\n",
       "      <th>10</th>\n",
       "      <td>AAPL</td>\n",
       "      <td>08/01/2018 00:22</td>\n",
       "      <td>Apple earnings show why you can expect more $1...</td>\n",
       "      <td>http://www.marketwatch.com/story/apple-earning...</td>\n",
       "      <td>Apple Inc.s expensive iPhone X helped the com...</td>\n",
       "    </tr>\n",
       "    <tr>\n",
       "      <th>11</th>\n",
       "      <td>AAPL</td>\n",
       "      <td>07/31/2018 17:59</td>\n",
       "      <td>Apple stock heads for record after earnings an...</td>\n",
       "      <td>http://www.marketwatch.com/story/apple-earning...</td>\n",
       "      <td>In a quarter when iPhone unit sales were of so...</td>\n",
       "    </tr>\n",
       "    <tr>\n",
       "      <th>12</th>\n",
       "      <td>AAPL</td>\n",
       "      <td>07/31/2018 16:59</td>\n",
       "      <td>Apples iPhones Power Revenue, Earnings</td>\n",
       "      <td>https://www.wsj.com/articles/apples-revenue-ea...</td>\n",
       "      <td>NaN</td>\n",
       "    </tr>\n",
       "    <tr>\n",
       "      <th>13</th>\n",
       "      <td>AAPL</td>\n",
       "      <td>07/31/2018 15:59</td>\n",
       "      <td>Apple Needs iPhone Prices to Stay Dialed Up</td>\n",
       "      <td>https://www.wsj.com/articles/apple-needs-iphon...</td>\n",
       "      <td>NaN</td>\n",
       "    </tr>\n",
       "    <tr>\n",
       "      <th>14</th>\n",
       "      <td>AAPL</td>\n",
       "      <td>07/31/2018 13:59</td>\n",
       "      <td>Apple Drives Stock Markets Buyback Spree</td>\n",
       "      <td>https://www.wsj.com/articles/apple-drives-stoc...</td>\n",
       "      <td>NaN</td>\n",
       "    </tr>\n",
       "    <tr>\n",
       "      <th>15</th>\n",
       "      <td>AMZN</td>\n",
       "      <td>08/01/2018 00:23</td>\n",
       "      <td>These 9 stocks will win from the esports craze</td>\n",
       "      <td>http://www.marketwatch.com/story/these-9-stock...</td>\n",
       "      <td>Judging by the amped-up energy inside Brooklyn...</td>\n",
       "    </tr>\n",
       "    <tr>\n",
       "      <th>16</th>\n",
       "      <td>AMZN</td>\n",
       "      <td>08/01/2018 00:06</td>\n",
       "      <td>Saved by the Smile on the Box: Amazon Canada L...</td>\n",
       "      <td>http://www.wsj.com/articles/PR-CO-20180801-905657</td>\n",
       "      <td>NaN</td>\n",
       "    </tr>\n",
       "    <tr>\n",
       "      <th>17</th>\n",
       "      <td>AMZN</td>\n",
       "      <td>07/31/2018 10:59</td>\n",
       "      <td>After a decade of wins, the end may be near fo...</td>\n",
       "      <td>http://www.marketwatch.com/story/after-a-decad...</td>\n",
       "      <td>For years, one of the most successful trades i...</td>\n",
       "    </tr>\n",
       "    <tr>\n",
       "      <th>18</th>\n",
       "      <td>AMZN</td>\n",
       "      <td>07/31/2018 06:59</td>\n",
       "      <td>A FANG Index Slides Into Correction Territory</td>\n",
       "      <td>https://www.wsj.com/articles/fang-index-slides...</td>\n",
       "      <td>NaN</td>\n",
       "    </tr>\n",
       "    <tr>\n",
       "      <th>19</th>\n",
       "      <td>AMZN</td>\n",
       "      <td>07/31/2018 06:59</td>\n",
       "      <td>Michael Lewis Creates and Performs The Coming ...</td>\n",
       "      <td>http://www.wsj.com/articles/PR-CO-20180731-912014</td>\n",
       "      <td>NaN</td>\n",
       "    </tr>\n",
       "    <tr>\n",
       "      <th>20</th>\n",
       "      <td>FB</td>\n",
       "      <td>07/31/2018 17:59</td>\n",
       "      <td>Facebook Pulls Fake Accounts Ahead of Midterm ...</td>\n",
       "      <td>https://www.wsj.com/articles/facebook-removes-...</td>\n",
       "      <td>NaN</td>\n",
       "    </tr>\n",
       "    <tr>\n",
       "      <th>21</th>\n",
       "      <td>FB</td>\n",
       "      <td>07/31/2018 15:59</td>\n",
       "      <td>Can We Trust Facebook and Twitter?</td>\n",
       "      <td>https://www.wsj.com/articles/can-we-trust-face...</td>\n",
       "      <td>NaN</td>\n",
       "    </tr>\n",
       "    <tr>\n",
       "      <th>22</th>\n",
       "      <td>FB</td>\n",
       "      <td>07/31/2018 11:59</td>\n",
       "      <td>Facebook removes fake accounts related to poli...</td>\n",
       "      <td>http://www.marketwatch.com/story/fakebook-remo...</td>\n",
       "      <td>Facebook Inc. said Tuesday that it has removed...</td>\n",
       "    </tr>\n",
       "    <tr>\n",
       "      <th>23</th>\n",
       "      <td>FB</td>\n",
       "      <td>07/31/2018 10:59</td>\n",
       "      <td>Prepare for the biggest stock-market selloff i...</td>\n",
       "      <td>http://www.marketwatch.com/story/prepare-for-t...</td>\n",
       "      <td>The U.S. stock market has been partying all th...</td>\n",
       "    </tr>\n",
       "    <tr>\n",
       "      <th>24</th>\n",
       "      <td>FB</td>\n",
       "      <td>07/31/2018 10:59</td>\n",
       "      <td>After a decade of wins, the end may be near fo...</td>\n",
       "      <td>http://www.marketwatch.com/story/after-a-decad...</td>\n",
       "      <td>For years, one of the most successful trades i...</td>\n",
       "    </tr>\n",
       "    <tr>\n",
       "      <th>25</th>\n",
       "      <td>MSFT</td>\n",
       "      <td>08/01/2018 00:23</td>\n",
       "      <td>These 9 stocks will win from the esports craze</td>\n",
       "      <td>http://www.marketwatch.com/story/these-9-stock...</td>\n",
       "      <td>Judging by the amped-up energy inside Brooklyn...</td>\n",
       "    </tr>\n",
       "    <tr>\n",
       "      <th>26</th>\n",
       "      <td>MSFT</td>\n",
       "      <td>07/31/2018 03:59</td>\n",
       "      <td>Apple Couldve Been a Trillionaire Long Ago</td>\n",
       "      <td>https://www.wsj.com/articles/apple-couldve-bee...</td>\n",
       "      <td>NaN</td>\n",
       "    </tr>\n",
       "    <tr>\n",
       "      <th>27</th>\n",
       "      <td>MSFT</td>\n",
       "      <td>07/28/18</td>\n",
       "      <td>Visa Still Offers Upside, Says Raymond James</td>\n",
       "      <td>https://www.barrons.com/articles/visa-still-of...</td>\n",
       "      <td>These reports, excerpted and edited by Barron...</td>\n",
       "    </tr>\n",
       "    <tr>\n",
       "      <th>28</th>\n",
       "      <td>MSFT</td>\n",
       "      <td>07/27/18</td>\n",
       "      <td>Caution Hits Options Markets as Liquidity Fear...</td>\n",
       "      <td>https://www.barrons.com/articles/caution-hits-...</td>\n",
       "      <td>Even as major U.S. stock indexes crept higher ...</td>\n",
       "    </tr>\n",
       "    <tr>\n",
       "      <th>29</th>\n",
       "      <td>MSFT</td>\n",
       "      <td>07/27/18</td>\n",
       "      <td>GM, First Republic, and More Stock Picks for t...</td>\n",
       "      <td>https://www.barrons.com/articles/gm-first-repu...</td>\n",
       "      <td>Sarat Sethi and Ned Dewees, the two managing p...</td>\n",
       "    </tr>\n",
       "  </tbody>\n",
       "</table>\n",
       "</div>"
      ],
      "text/plain": [
       "       0                 1                                                  2  \\\n",
       "0   TSLA  07/31/2018 21:59  Tesla shareholders, buckle up  given how Elon...   \n",
       "1   TSLA  07/31/2018 18:59  Tesla says it did not ask suppliers for cash back   \n",
       "2   TSLA  07/31/2018 10:59  Ex-SolarCity workers sue Tesla, claiming it in...   \n",
       "3   TSLA  07/31/2018 07:59  Elon Musk: A Deep Dive into the Tesla Chiefs ...   \n",
       "4   TSLA  07/31/2018 06:59  Thinking about buying stock in Advanced Micro ...   \n",
       "5   GOOG  07/31/2018 11:59  Waymos driverless cars will give you a ride t...   \n",
       "6   GOOG  07/31/2018 10:59  After a decade of wins, the end may be near fo...   \n",
       "7   GOOG          07/30/18  Fear the FAANG stocks? Heres a better S&P 500...   \n",
       "8   GOOG          07/28/18  Weekend roundup: Facebooks flogging | Amazon...   \n",
       "9   GOOG          07/28/18  Esports go prime time this weekend, and thats...   \n",
       "10  AAPL  08/01/2018 00:22  Apple earnings show why you can expect more $1...   \n",
       "11  AAPL  07/31/2018 17:59  Apple stock heads for record after earnings an...   \n",
       "12  AAPL  07/31/2018 16:59            Apples iPhones Power Revenue, Earnings   \n",
       "13  AAPL  07/31/2018 15:59        Apple Needs iPhone Prices to Stay Dialed Up   \n",
       "14  AAPL  07/31/2018 13:59          Apple Drives Stock Markets Buyback Spree   \n",
       "15  AMZN  08/01/2018 00:23     These 9 stocks will win from the esports craze   \n",
       "16  AMZN  08/01/2018 00:06  Saved by the Smile on the Box: Amazon Canada L...   \n",
       "17  AMZN  07/31/2018 10:59  After a decade of wins, the end may be near fo...   \n",
       "18  AMZN  07/31/2018 06:59      A FANG Index Slides Into Correction Territory   \n",
       "19  AMZN  07/31/2018 06:59  Michael Lewis Creates and Performs The Coming ...   \n",
       "20    FB  07/31/2018 17:59  Facebook Pulls Fake Accounts Ahead of Midterm ...   \n",
       "21    FB  07/31/2018 15:59                 Can We Trust Facebook and Twitter?   \n",
       "22    FB  07/31/2018 11:59  Facebook removes fake accounts related to poli...   \n",
       "23    FB  07/31/2018 10:59  Prepare for the biggest stock-market selloff i...   \n",
       "24    FB  07/31/2018 10:59  After a decade of wins, the end may be near fo...   \n",
       "25  MSFT  08/01/2018 00:23     These 9 stocks will win from the esports craze   \n",
       "26  MSFT  07/31/2018 03:59        Apple Couldve Been a Trillionaire Long Ago   \n",
       "27  MSFT          07/28/18       Visa Still Offers Upside, Says Raymond James   \n",
       "28  MSFT          07/27/18  Caution Hits Options Markets as Liquidity Fear...   \n",
       "29  MSFT          07/27/18  GM, First Republic, and More Stock Picks for t...   \n",
       "\n",
       "                                                    3  \\\n",
       "0   http://www.marketwatch.com/story/tesla-shareho...   \n",
       "1   http://www.marketwatch.com/story/tesla-says-it...   \n",
       "2   http://www.marketwatch.com/story/ex-solarcity-...   \n",
       "3   https://www.barrons.com/articles/elon-musk-a-d...   \n",
       "4   http://www.wsj.com/articles/PR-CO-20180731-912859   \n",
       "5   http://www.marketwatch.com/story/waymos-driver...   \n",
       "6   http://www.marketwatch.com/story/after-a-decad...   \n",
       "7   http://www.marketwatch.com/story/fear-the-faan...   \n",
       "8   http://www.marketwatch.com/story/weekend-round...   \n",
       "9   http://www.marketwatch.com/story/esports-go-pr...   \n",
       "10  http://www.marketwatch.com/story/apple-earning...   \n",
       "11  http://www.marketwatch.com/story/apple-earning...   \n",
       "12  https://www.wsj.com/articles/apples-revenue-ea...   \n",
       "13  https://www.wsj.com/articles/apple-needs-iphon...   \n",
       "14  https://www.wsj.com/articles/apple-drives-stoc...   \n",
       "15  http://www.marketwatch.com/story/these-9-stock...   \n",
       "16  http://www.wsj.com/articles/PR-CO-20180801-905657   \n",
       "17  http://www.marketwatch.com/story/after-a-decad...   \n",
       "18  https://www.wsj.com/articles/fang-index-slides...   \n",
       "19  http://www.wsj.com/articles/PR-CO-20180731-912014   \n",
       "20  https://www.wsj.com/articles/facebook-removes-...   \n",
       "21  https://www.wsj.com/articles/can-we-trust-face...   \n",
       "22  http://www.marketwatch.com/story/fakebook-remo...   \n",
       "23  http://www.marketwatch.com/story/prepare-for-t...   \n",
       "24  http://www.marketwatch.com/story/after-a-decad...   \n",
       "25  http://www.marketwatch.com/story/these-9-stock...   \n",
       "26  https://www.wsj.com/articles/apple-couldve-bee...   \n",
       "27  https://www.barrons.com/articles/visa-still-of...   \n",
       "28  https://www.barrons.com/articles/caution-hits-...   \n",
       "29  https://www.barrons.com/articles/gm-first-repu...   \n",
       "\n",
       "                                                    4  \n",
       "0   Heres a big question Id be asking if I owned...  \n",
       "1   Tesla responded on Monday to a Wall Street Jou...  \n",
       "2   Three former SolarCity Corp. employees have fi...  \n",
       "3   Heres the deep dive on Elon Musk tweets you d...  \n",
       "4                                                 NaN  \n",
       "5   Alphabet Inc.s Waymo will use its self-drivin...  \n",
       "6   For years, one of the most successful trades i...  \n",
       "7   The 20% decline in Facebooks stock Thursday a...  \n",
       "8   MarketWatch rounds up 10 of its most interesti...  \n",
       "9   Someday, well look back on this summer as a t...  \n",
       "10  Apple Inc.s expensive iPhone X helped the com...  \n",
       "11  In a quarter when iPhone unit sales were of so...  \n",
       "12                                                NaN  \n",
       "13                                                NaN  \n",
       "14                                                NaN  \n",
       "15  Judging by the amped-up energy inside Brooklyn...  \n",
       "16                                                NaN  \n",
       "17  For years, one of the most successful trades i...  \n",
       "18                                                NaN  \n",
       "19                                                NaN  \n",
       "20                                                NaN  \n",
       "21                                                NaN  \n",
       "22  Facebook Inc. said Tuesday that it has removed...  \n",
       "23  The U.S. stock market has been partying all th...  \n",
       "24  For years, one of the most successful trades i...  \n",
       "25  Judging by the amped-up energy inside Brooklyn...  \n",
       "26                                                NaN  \n",
       "27  These reports, excerpted and edited by Barron...  \n",
       "28  Even as major U.S. stock indexes crept higher ...  \n",
       "29  Sarat Sethi and Ned Dewees, the two managing p...  "
      ]
     },
     "execution_count": 49,
     "metadata": {},
     "output_type": "execute_result"
    }
   ],
   "source": [
    "df"
   ]
  },
  {
   "cell_type": "code",
   "execution_count": 50,
   "metadata": {},
   "outputs": [],
   "source": [
    "df.columns = ['Ticker','Date','Title','Link','Text']"
   ]
  },
  {
   "cell_type": "code",
   "execution_count": 51,
   "metadata": {},
   "outputs": [
    {
     "data": {
      "text/plain": [
       "0     Heres a big question Id be asking if I owned...\n",
       "1     Tesla responded on Monday to a Wall Street Jou...\n",
       "2     Three former SolarCity Corp. employees have fi...\n",
       "3     Heres the deep dive on Elon Musk tweets you d...\n",
       "4                                                   NaN\n",
       "5     Alphabet Inc.s Waymo will use its self-drivin...\n",
       "6     For years, one of the most successful trades i...\n",
       "7     The 20% decline in Facebooks stock Thursday a...\n",
       "8     MarketWatch rounds up 10 of its most interesti...\n",
       "9     Someday, well look back on this summer as a t...\n",
       "10    Apple Inc.s expensive iPhone X helped the com...\n",
       "11    In a quarter when iPhone unit sales were of so...\n",
       "12                                                  NaN\n",
       "13                                                  NaN\n",
       "14                                                  NaN\n",
       "15    Judging by the amped-up energy inside Brooklyn...\n",
       "16                                                  NaN\n",
       "17    For years, one of the most successful trades i...\n",
       "18                                                  NaN\n",
       "19                                                  NaN\n",
       "20                                                  NaN\n",
       "21                                                  NaN\n",
       "22    Facebook Inc. said Tuesday that it has removed...\n",
       "23    The U.S. stock market has been partying all th...\n",
       "24    For years, one of the most successful trades i...\n",
       "25    Judging by the amped-up energy inside Brooklyn...\n",
       "26                                                  NaN\n",
       "27    These reports, excerpted and edited by Barron...\n",
       "28    Even as major U.S. stock indexes crept higher ...\n",
       "29    Sarat Sethi and Ned Dewees, the two managing p...\n",
       "Name: Text, dtype: object"
      ]
     },
     "execution_count": 51,
     "metadata": {},
     "output_type": "execute_result"
    }
   ],
   "source": [
    "df['Text']"
   ]
  },
  {
   "cell_type": "code",
   "execution_count": 45,
   "metadata": {},
   "outputs": [],
   "source": [
    "def text(a):\n",
    "    list_of_text = []\n",
    "    for i in a:\n",
    "        list_of_text.append(str(i))\n",
    "    return list_of_text\n"
   ]
  },
  {
   "cell_type": "code",
   "execution_count": 46,
   "metadata": {},
   "outputs": [],
   "source": [
    "examples = text(df['Text'])"
   ]
  },
  {
   "cell_type": "code",
   "execution_count": null,
   "metadata": {},
   "outputs": [],
   "source": []
  },
  {
   "cell_type": "markdown",
   "metadata": {},
   "source": [
    "Remove Punctuation"
   ]
  },
  {
   "cell_type": "code",
   "execution_count": 24,
   "metadata": {},
   "outputs": [],
   "source": [
    "example = [''.join(c for c in s if c not in string.punctuation) for s in examples]"
   ]
  },
  {
   "cell_type": "code",
   "execution_count": 25,
   "metadata": {},
   "outputs": [],
   "source": [
    "vectorizer = TfidfVectorizer(min_df = 1, stop_words = 'english', use_idf=False)\n",
    "dtm = vectorizer.fit_transform(example)\n",
    "doc_term_matrix = pd.DataFrame(dtm.toarray(),index=example,columns=vectorizer.get_feature_names())"
   ]
  },
  {
   "cell_type": "code",
   "execution_count": 26,
   "metadata": {},
   "outputs": [],
   "source": [
    "similarity = np.asarray(np.asmatrix(doc_term_matrix) * np.asmatrix(doc_term_matrix).T)\n",
    "similarity = np.triu(similarity, k=1)\n",
    "df = pd.DataFrame(similarity, index=example, columns = example)"
   ]
  },
  {
   "cell_type": "markdown",
   "metadata": {},
   "source": [
    "Set threshold for what is considered similar."
   ]
  },
  {
   "cell_type": "code",
   "execution_count": 28,
   "metadata": {},
   "outputs": [],
   "source": [
    "high_similarity = df[(df>=0.5)].dropna(axis = 1, how = 'all').columns.values"
   ]
  },
  {
   "cell_type": "code",
   "execution_count": 29,
   "metadata": {},
   "outputs": [],
   "source": [
    "sim_dtm = vectorizer.fit_transform(high_similarity)"
   ]
  },
  {
   "cell_type": "code",
   "execution_count": 30,
   "metadata": {},
   "outputs": [],
   "source": [
    "similar_docs = pd.DataFrame(sim_dtm.toarray(),index=high_similarity,columns=vectorizer.get_feature_names())"
   ]
  },
  {
   "cell_type": "code",
   "execution_count": 31,
   "metadata": {},
   "outputs": [],
   "source": [
    "Z = linkage(similar_docs, \"ward\")"
   ]
  },
  {
   "cell_type": "code",
   "execution_count": 32,
   "metadata": {},
   "outputs": [
    {
     "data": {
      "text/plain": [
       "{'icoord': [[5.0, 5.0, 15.0, 15.0],\n",
       "  [35.0, 35.0, 45.0, 45.0],\n",
       "  [25.0, 25.0, 40.0, 40.0],\n",
       "  [10.0, 10.0, 32.5, 32.5]],\n",
       " 'dcoord': [[0.0, 0.0, 0.0, 0.0],\n",
       "  [0.0, 0.042923989893032685, 0.042923989893032685, 0.0],\n",
       "  [0.0, 1.5046597720207817, 1.5046597720207817, 0.042923989893032685],\n",
       "  [0.0, 1.8162759453788206, 1.8162759453788206, 1.5046597720207817]],\n",
       " 'ivl': ['2', '3', '0', '1', '4'],\n",
       " 'leaves': [2, 3, 0, 1, 4],\n",
       " 'color_list': ['g', 'r', 'b', 'b']}"
      ]
     },
     "execution_count": 32,
     "metadata": {},
     "output_type": "execute_result"
    },
    {
     "data": {
      "image/png": "[encoded data removed]",
      "text/plain": [
       "<Figure size 432x288 with 1 Axes>"
      ]
     },
     "metadata": {},
     "output_type": "display_data"
    }
   ],
   "source": [
    "dendrogram(Z)"
   ]
  },
  {
   "cell_type": "code",
   "execution_count": 33,
   "metadata": {},
   "outputs": [
    {
     "data": {
      "text/plain": [
       "array([3, 2, 1, 1, 2], dtype=int32)"
      ]
     },
     "execution_count": 33,
     "metadata": {},
     "output_type": "execute_result"
    }
   ],
   "source": [
    "cluster_ID = fcluster(Z,1.0, criterion='distance')\n",
    "cluster_ID"
   ]
  },
  {
   "cell_type": "code",
   "execution_count": 34,
   "metadata": {},
   "outputs": [],
   "source": [
    "similar_docs['cluster'] = cluster_ID"
   ]
  },
  {
   "cell_type": "code",
   "execution_count": 35,
   "metadata": {},
   "outputs": [],
   "source": [
    "def doc_length(values):\n",
    "    a = []\n",
    "    for i in values:\n",
    "        a.append(len(i))\n",
    "    return a"
   ]
  },
  {
   "cell_type": "code",
   "execution_count": 36,
   "metadata": {},
   "outputs": [],
   "source": [
    "lengths_of_docs = doc_length(similar_docs.index.values)"
   ]
  },
  {
   "cell_type": "code",
   "execution_count": 37,
   "metadata": {},
   "outputs": [],
   "source": [
    "similar_docs['length'] = lengths_of_docs"
   ]
  },
  {
   "cell_type": "code",
   "execution_count": 38,
   "metadata": {},
   "outputs": [],
   "source": [
    "idx = similar_docs.groupby(['cluster'])['length'].transform(max) == similar_docs['length']"
   ]
  },
  {
   "cell_type": "code",
   "execution_count": 39,
   "metadata": {},
   "outputs": [
    {
     "data": {
      "text/plain": [
       "array(['In a quarter when iPhone unit sales were of somewhat diminished importance Apple Inc beat earnings and revenue expectations and then delivered an upbeat view of what\\x92s to come sending shares toward record highsThe company reported betterthanexpected results for its fiscal third quarter Tuesday posting earnings per share of 234 on revenue of 533 billion Analysts surveyed by FactSet had been projecting 216 in EPS and 523 billion in revenue Apple stock rose about 4 in afterhours trading to prices that would be record highs were they to occur during a regular trading sessionFor more on Apple earnings see our live blog recapThough Apple AAPL 020 \\xa0once again fell short of Wall Street\\x92s estimates for iPhone unit sales the company more than made up for that thanks to selling more of its premium iPhones Apple ended up with an iPhone average selling price of 724 in the June quarter which was far ahead of the 693 analysts were projecting The spring quarter typically brings the lowest average selling prices of the year as Apple nears the release of new iPhones but Apple saw a meaningful increase from the 606 it reported in the prior June quarterOpinion Apple earnings show why you can expect more 1000 iPhonesArguably the most useful number in Apple\\x92s fiscal thirdquarter report was its Septemberquarter outlook of 60 billion to 62 billion in revenue which came in above the FactSet consensus for 595 billion in revenue Typically investors look to Apple\\x92s September forecast for indications of whether the company expects to start selling new iPhones before that quarter ends Given Apple\\x92s revenue outperformance versus the consensus in the current quarter though Apple\\x92s optimism could also be due to product mixServices revenue has become an increasingly important element of Apple\\x92s business as it indicates how well the company is able to monetize its installed base of users amid what Chief Executive Tim Cook admitted was a lengthening upgrade cycle Apple reported 95 billion in services revenue for the latest period up from 73 billion in the yearearlier quarter Analysts had been projecting 92 billionSee also Here\\x92s what could happen to Apple\\x92s average selling prices in the next iPhone cycleOn the company\\x92s earnings call Cook shared more information about the services business and he was prompted by one analyst to discuss Apple\\x92s various streaming efforts He talked about how Apple\\x92s services segment was getting a boost from increased usage of thirdparty subscriptionvideo products within the Apple ecosystem Apple gets a cut of the subscription fee when consumers sign up for streaming services like Netflix Inc NFLX 074 \\xa0 and Cook suggested Apple is seeing growth in videostreaming subscription services at about 100 on a yearoveryear basisAs for Apple\\x92s own video content Cook said there was \\x93no match\\x94 for Oprah Winfrey\\x92s ability to connect with audiences \\x97 Apple has struck a deal with her He also said that two Sony veterans brought on last year were working on another exciting but secret project which could be a rumored streaming serviceDon\\x92t miss Here\\x92s how much Apple could make from streamingApple Music its streamingmusic service now has upward of 50 million users who either pay for the service or are using a free trial and Cook said he\\x92s \\x93been told\\x94 that the company \\x93took the leadership position in North America\\x94 this quarter He dismissed competitive concerns saying that the endgame for Apple and rival streamingmusic companies such as Spotify Technology SA SPOT 342 \\xa0and Pandora Media Inc P 246 \\xa0is to expand the category not go up against each otherStreaming music is part of Apple\\x92s services segment which has become an increasingly important element of Apple\\x92s business The company reported 95 billion in services revenue for the latest period up from 73 billion in the yearearlier quarter Analysts had been projecting 92 billionAnother closely watched area for Apple is China where the company has seen a recent rebound That trend continued in the most recent period which marked the company\\x92s fourthstraight quarter of doubledigit growth in Greater China Apple generated 96 billion in sales from Greater China up from 8 billion in the prior June quarterCook talked a good amount on the call about tariffs striking a balance between saying that certain trade relationships \\x93are in need of modernizing\\x94 but also that tariffs tend to show up \\x93as a tax on the consumer\\x94 As for tariffs on steel and aluminum as well as two other rounds of tariffs that affected 50 billion of Chinese goods Apple hasn\\x92t seen any of its products directly affected according to Cook The company is in the process of \\x93sharing our views with the administration\\x94 regarding a fourth round of tariffs that affects goods valued at 200 billionRead As the trade war heats up Goldman says take cover in these stocksOverall Cook said he\\x92s \\x93optimistic\\x94 that the US and China will be able to work out their trade differencesApple\\x92s stock has gained 28 over the past 12 months while the Dow Jones Industrial Average             DJIA 043           of which Apple is a component has risen 16Get the top tech stories of the day delivered to your inbox Subscribe to MarketWatchs free Tech Daily newsletter Sign up hereEmily Bary is a MarketWatch reporter based in New YorkJoin the conversation',\n",
       "       'Judging by the ampedup energy inside Brooklyn\\x92s Barclays Center for the premier Overwatch League finals esports is here to stay \\x97 and it\\x92s going to be a big sustainable consumer trend that should have a place in your investment portfolioI\\x92m not an esports fan at least not yet But I went to last weekend\\x92s finals as an investor to see what all the fuss is about The atmosphere was electric especially considering that fans basically watched two teams lined up behind tables on stage playing games on a big screen above themLondon Fusion played Philadelphia Fusion in a soldout 20000seat arena and London won It wasn\\x92t quite up there with a Beatles show No second British Invasion But it was close And a lot more electric than most major league sports finalsThis enthusiasm is one reason Baird analyst Colin Sebastian thinks interactive entertainment will become the biggest piece of the media and entertainment sector hitting 145 billion in annual sales by 2020 That makes it a \\x93must own\\x94 area for investors he saysBut how Sebastian highlights content providers Activision Blizzard ATVI 092 Electronic Arts EA 201 and TakeTwo Interactive TTWO 008 Here\\x92s a look at these companies and six others that should be good plays on this trendVideogame publishers benefit directly because they own the esports leagues This brings in revenue via ticket sales merchandising media rights advertising and sponsorships They also benefit indirectly because esports will bring in more fans and help boost product salesHere are the four main companies in esports leagues so far\\x95 Tencent HoldingsTCEHY 0650700 034 \\xa0owns Riot Games whose League of Legends is one of the world\\x92s most popular games and the basis for the League of Legends Championship Series esports league Tencent is a key esports holding because it offers exposure to the popularity of esports in China its home turf China has the largest gamer base in the world with about 442 million gamers as of 2017 and a 57 penetration rate of Chinese internet users according to the China Internet Network Information Center This year China will contribute a third of the global game industry\\x92s total revenue says NewZooTencent has a deal with Disney DIS 083 \\xa0DIS for streaming and broadcast rights for League of Legends through 2023 and it is launching a competitivegaming television channel in China\\x95 Activision Blizzard owns the Overwatch League the league that played that final at the Barclays Center The league has 12 teams now but it wants to expand to 28 Activision Blizzard will also create an esports league for its Call of Duty game says Goldman Sachs analyst Christopher MerwinActivision Blizzard looks attractive for other reasons It already has a popular mobile game in Candy Crush A key source of growth will be the conversion of PC and consolebased titles into mobile games Mobile is huge in China So this could give it a greater presence in China where the company hopes to expand via a partnership with NetEase NTES 062Another catalyst for the stock should be the release of \\x93Call of Duty Black Ops 4\\x94 in October\\x93We believe Activision is building a Disneystyle entertainment business for the 21st century but with higher operating margins\\x94 says Jefferies analyst Timothy O\\x92SheaLike the shares of other game publishers Activision Blizzard stock can suffer bouts of weakness on fears about competition from Fortnite published by Epic Games But not to worry \\x93While undeniably the hottest game we\\x92ve seen in years Fortnite is more about expanding the market than cannibalizing it\\x94 says O\\x92SheaRead Want to make money off the \\x91Fortnite\\x92 videogame Buy this stock\\x95 TakeTwo Interactive has a partnership with the National Basketball Association to launch the NBA 2K eLeague\\x95 Electronic Arts is developing leagues based on its Fédération Internationale de Football Association FIFA and Madden NFL Football games It doesn\\x92t get much credit for this yet says Merwin So it could be the sleeper hereUnderscoring the financial muscle behind esports are the big brands that have signed on as sponsors They include Toyota TM 2337203 129 HP HPQ 009 Intel INTC 086 TMobile US TMUS 030 \\xa0 Nissan 7201 081 Berkshire Hathaway\\x92s BRKA 062BRKB 061 \\xa0Geico and Axe owned by Unilever UN 019UNIA 041ULVR 021Moreover esport team buyers include traditional sports teams owners or top executives at the New England Patriots the New York Mets and Comcast Spectator which owns the Philadelphia FlyersRead this about videogame earnings Esports are here to stay but who is poised to make a killingTwitch is the most popular platform for watching esports and competitive gaming online It\\x92s a big deal Average daily viewership for January was 962000 which means it did better than two major cable TV according to Mintel For 2017 average daily viewership was 885000 for MSNBC and 783000 for CNN Celebrities are catching on to the size of the Twitch audience and making appearances In March Drake played Fortnight with the popular gamer Tyler \\x93Ninja\\x94 BlevinsTwitch is one of Amazoncom\\x92s AMZN 010 bestkept secrets says Motely Fool writer John Ballard He thinks Amazon\\x92s 2014 purchase of Twitch for 970 million is starting to look like a really clever move Ballard describes Twitch a social network for gamers where viewers can watch their favorite streamers chat with other gamers and develop their skillsAs the biggest platform with about 70 of monthly active users in the online gaming space according to Goldman Sachs Twitch benefits from the \\x93network effect\\x94 This means it has the power to continually attract more users and become more useful to them as it does this Amazoncom makes money from Twitch by taking a cut of sales on the platform It has also integrated Twitch into Prime which helps Prime get more users \\x93Twitch represents one of the most compelling assets in the world of esports\\x94 says Goldman Sachs analyst Heath TerryOddly Amazon doesn\\x92t mention Twitch in its most recent 10Q It mentions it once in its most recent 10K but only as a formality and with no descriptionElectronic Arts looks like another good platform company to own Taking a page out of the books of Netflix NFLX 074 \\xa0and Spotify SPOT 342 Eletronic Arts is developing a streaming game service\\x93CEO Andrew Wilson is positioning the company for a future in which videogames are streamed to all devices via subscription\\x94 says Jefferies analyst Timothy O\\x92Shea The company will offer all its games on the service and it is working on adding thirdparty party titlesAccording to tech investing lore you do well investing in the companies that make the gear used in a tech trend and not just the companies selling the final products or services If that\\x92s true then Nvidia NVDA 030 \\xa0should continue to be a good investment It makes the highend GeForce line of graphics processing units GPUs used in the highpowered PCs that gamers like So the growing popularity of esports will help Nvidia\\x93We view Nvidia as uniquely positioned to capture growth in the PC gaming user base\\x94 says Goldman Sachs analyst Toshiya Hari Nvidia has a dominant position in gamerelated chips in part because it puts most of its development budget into its GPU platform while competitor Advanced Micro Device AMD 561 \\xa0invests in a number of different product lines Nvidia\\x92s specialized chips are also used in artificial intelligence machinelearning data centers and selfdriving carsFor arms merchants also consider Logitech International LOGI 455 \\xa0a top supplier of highend gaming mice headsets and specialized gaming keyboards And don\\x92t forget Microsoft MSFT 067 It never did well with smartphones But consoles are another matter Microsoft sells the popular Xbox Late last year it refreshed the line by rolling out the Xbox One X with hardcore gamers in mindFor a broad based approach to the videogame and esports trends consider the 120 million videogame Tech exchangetraded fund  GAMR 013  It holds most of the major players in this space but be warned it has 72 stocks the largest is Glu Mobile  GLUU 250   so it is not a pure pay on the names I\\x92ve highlighted above It also has a steep expense ratio of 082 Not only is that a lot higher than the category average of 055 as calculated by Morningstar but it\\x92s way more than the 009 expense ratio levied for the SPDR SP 500  SPY 049  which tracks the SP 500 index  SPX 049The ETF is essentially flat on the year compared with the SP\\x92s 5 gainAt the time of publication Michael Brush had no positions in any stocks mentioned in this column Brush has suggested INTC BRKB AMZN and MSFT in his stock newsletter Brush Up on Stocks He is a Manhattanbased financial writer who has covered business for the New York Times and The Economist Group and he attended Columbia Business School in the KnightBagehot programCreate an email alert for Michael Brush\\x92s MarketWatch columns here requires signinWant news about Asia delivered to your inbox Subscribe to MarketWatchs free Asia Daily newsletter Sign up hereMichael Brush is a Manhattanbased financial writer who publishes the stock newsletter Brush Up on Stocks Brush has covered business for the New York Times and The Economist group He attended Columbia Business School in the KnightBagehot programJoin the conversation',\n",
       "       'For years one of the most successful trades in the US stock market has been to favor highgrowth stocks over ones considered to be undervalued At long last this trend may be unravelingValuebased strategies could be poised for a comeback as the overall economic environment becomes more challenging with rising interest rates and a lesscertain growth outlook At the same time the advance in growthbased plays is seen as overdone as highlighted by recent implosions in some of the strategy\\x92s biggest outperformers including Facebook and Netflix\\x93We think the turn is in\\x94 wrote Morgan Stanley in a Monday note to clients saying that the \\x93almost unprecedented\\x94 degree of outperformance by growth over value was poised to shiftDon\\x92t miss Prepare for the biggest stockmarket selloff in months Morgan Stanley warnsThus far this year the SP 500 Growth index SP500G 068 \\xa0is up 108 a move that is more than twice the 48 gain of the overall SP 500 SPX 049 Meanwhile the SP 500 Value index SP500V 027 is down 02 thus far this yearThis trend has held across market capitalization sizes The Russell 1000 Value index RLV 036 \\xa0is up 04 thus far in 2018 below the overall Russell 1000 RUI 053 up 47 and the Russell 1000 Growth index RLG 070 \\xa0up 88 The Russell 2000 index RUT 107 \\xa0of smallcapitalization shares is up 77\\x97the Russell 2000 Growth index RUO 139 \\xa0is up 97 while its value index RUJ 075 \\xa0is up 54This is hardly new to 2018 Value has been such an underperformer for years\\x97not only relative to growth but also to the broader market\\x97that last year Goldman Sachs asked whether markets had seen \\x93the death of value\\x94 The investment bank was just one in a chorus of voices sounding the alarm Jeremy Grantham the founder of asset manager GMO suggested that many of the mostly widely used metrics in evaluating undervalued companies no longer held much weight for stock movesThe following FactSet chart looks at the 10year performance of the SP 500 growth index in green and compares it with both the unadjusted index red and the value index blue The chart illustrates that growth has consistently and significantly outperformed over the past decade\\x93We appreciate the fact that fighting momentum can be a losing game but when things get this extreme and there is evidence of a turn we have to go the other way\\x94 Morgan Stanley wroteWhile growth has done better for years the degree to which it has been outperforming value has been unusually high of late According to the investment bank the difference hasn\\x92t been this extreme since the dotcom eraFurthermore the valuation difference between the largecap growth stocks and their value equivalents is also at its most extreme since 2006 According to FactSet the Russell 1000 growth index has a pricetoearnings ratio of 2921 compared with the 1798 ratio of the value indexWhile growth overall has benefited from an environment with low interest rates and steady economic expansion since the financial crisis it has particularly benefited as some of the market\\x92s biggest names have been growth plays In particular the FAANG group of stocks which refers to Facebook FB 089 Amazoncom AMZN 010 Apple AAPL 020 Netflix NFLX 074 and Googleparent Alphabet GOOGL 023GOOG 020 are all highgrowth stocksRelated Why investors shouldn\\x92t sweat the stock market\\x92s reliance on FAANG sharesWhile that group has led the market for years including in 2018 the rally has recently shown signs of cracks Both Netflix and Facebook tumbled after their most recent quarterly report with Facebook suffering its biggest oneday drop ever and dropping into bearmarket territoryFacebook\\x92s plummet resulted in a rare week of pronounced outperformance by value instead of growth last week The SP 500 value index gained 144 over last week compared with the 06 rise of the index overall The growth index dropped 01 That represented the biggest weekly outperformance by value over growth since December according to the WSJ Market Data Group\\x93Whether this is a blip or the start of something new where investors rotate into value in an earnest way remains to be seen\\x94 said Michael Mullaney director of global markets research at Boston Partners \\x93However the current environment feels a bit like the dotcom era which was the last time that tech valuations in particular got a little stretched When those pulled back that led to a period of value outperformance that lasted for years\\x94Morgan Stanley espoused this view saying that the outperformance of growth strategies wasn\\x92t justified by past and forecast earnings growth\\x93Based on this spread widening over the past year we think it time for a reversal Either largecap value stocks will go up more or largecap growth stocks will simply come down and catch up with the rest of the market on PE compression\\x94 it wrote \\x93We think it will be the latter but would not care if it is the former Either way Value outperforms Growth and we think the spread can narrow by 1015 over the next several months\\x94Morgan Stanley analysts referred to the outperformance by the value contingent last week as \\x93a good start\\x94Ryan Vlastelica is a markets reporter for MarketWatch and is based in New York Follow him on Twitter RyanVlastelicaJoin the conversation',\n",
       "       'For years one of the most successful trades in the US stock market has been to favor highgrowth stocks over ones considered to be undervalued At long last this trend may be unravelingValuebased strategies could be poised for a comeback as the overall economic environment becomes more challenging with rising interest rates and a lesscertain growth outlook At the same time the advance in growthbased plays is seen as overdone as highlighted by recent implosions in some of the strategy\\x92s biggest outperformers including Facebook and Netflix\\x93We think the turn is in\\x94 wrote Morgan Stanley in a Monday note to clients saying that the \\x93almost unprecedented\\x94 degree of outperformance by growth over value was poised to shiftDon\\x92t miss Prepare for the biggest stockmarket selloff in months Morgan Stanley warnsThus far this year the SP 500 Growth index SP500G 068 \\xa0is up 108 a move that is more than twice the 48 gain of the overall SP 500 SPX 049 Meanwhile the SP 500 Value index SP500V 027 is down 02 thus far this yearThis trend has held across market capitalization sizes The Russell 1000 Value index RLV 036 \\xa0is up 04 thus far in 2018 below the overall Russell 1000 RUI 053 up 47 and the Russell 1000 Growth index RLG 070 \\xa0up 88 The Russell 2000 index RUT 107 \\xa0of smallcapitalization shares is up 77\\x97the Russell 2000 Growth index RUO 139 \\xa0is up 97 while its value index RUJ 075 \\xa0is up 54This is hardly new to 2018 Value has been such an underperformer for years\\x97not only relative to growth but also to the broader market\\x97that last year Goldman Sachs asked whether markets had seen \\x93the death of value\\x94 The investment bank was just one in a chorus of voices sounding the alarm Jeremy Grantham the founder of asset manager GMO suggested that many of the mostly widely used metrics in evaluating undervalued companies no longer held much weight for stock movesThe following FactSet chart looks at the 10year performance of the SP 500 growth index in green and compares it with both the unadjusted index red and the value index blue The chart illustrates that growth has consistently and significantly outperformed over the past decade\\x93We appreciate the fact that fighting momentum can be a losing game but when things get this extreme and there is evidence of a turn we have to go the other way\\x94 Morgan Stanley wroteWhile growth has done better for years the degree to which it has been outperforming value has been unusually high of late According to the investment bank the difference hasn\\x92t been this extreme since the dotcom eraFurthermore the valuation difference between the largecap growth stocks and their value equivalents is also at its most extreme since 2006 According to FactSet the Russell 1000 growth index has a pricetoearnings ratio of 2921 compared with the 1798 ratio of the value indexWhile growth overall has benefited from an environment with low interest rates and steady economic expansion since the financial crisis it has particularly benefited as some of the market\\x92s biggest names have been growth plays In particular the FAANG group of stocks which refers to Facebook FB 089 Amazoncom AMZN 010 Apple AAPL 020 Netflix NFLX 074 and Googleparent Alphabet GOOGL 023GOOG 020 are all highgrowth stocksRelated Why investors shouldn\\x92t sweat the stock market\\x92s reliance on FAANG sharesWhile that group has led the market for years including in 2018 the rally has recently shown signs of cracks Both Netflix and Facebook tumbled after their most recent quarterly report with Facebook suffering its biggest oneday drop ever and dropping into bearmarket territoryFacebook\\x92s plummet resulted in a rare week of pronounced outperformance by value instead of growth last week The SP 500 value index gained 144 over last week compared with the 06 rise of the index overall The growth index dropped 01 That represented the biggest weekly outperformance by value over growth since December according to the WSJ Market Data Group\\x93Whether this is a blip or the start of something new where investors rotate into value in an earnest way remains to be seen\\x94 said Michael Mullaney director of global markets research at Boston Partners \\x93However the current environment feels a bit like the dotcom era which was the last time that tech valuations in particular got a little stretched When those pulled back that led to a period of value outperformance that lasted for years\\x94Morgan Stanley espoused this view saying that the outperformance of growth strategies wasn\\x92t justified by past and forecast earnings growth\\x93Based on this spread widening over the past year we think it time for a reversal Either largecap value stocks will go up more or largecap growth stocks will simply come down and catch up with the rest of the market on PE compression\\x94 it wrote \\x93We think it will be the latter but would not care if it is the former Either way Value outperforms Growth and we think the spread can narrow by 1015 over the next several months\\x94Morgan Stanley analysts referred to the outperformance by the value contingent last week as \\x93a good start\\x94Ryan Vlastelica is a markets reporter for MarketWatch and is based in New York Follow him on Twitter RyanVlastelicaJoin the conversation',\n",
       "       'Judging by the ampedup energy inside Brooklyn\\x92s Barclays Center for the premier Overwatch League finals esports is here to stay \\x97 and it\\x92s going to be a big sustainable consumer trend that should have a place in your investment portfolioI\\x92m not an esports fan at least not yet But I went to last weekend\\x92s finals as an investor to see what all the fuss is about The atmosphere was electric especially considering that fans basically watched two teams lined up behind tables on stage playing games on a big screen above themLondon Fusion played Philadelphia Fusion in a soldout 20000seat arena and London won It wasn\\x92t quite up there with a Beatles show No second British Invasion But it was close And a lot more electric than most major league sports finalsThis enthusiasm is one reason Baird analyst Colin Sebastian thinks interactive entertainment will become the biggest piece of the media and entertainment sector hitting 145 billion in annual sales by 2020 That makes it a \\x93must own\\x94 area for investors he saysBut how Sebastian highlights content providers Activision Blizzard ATVI 092 Electronic Arts EA 201 and TakeTwo Interactive TTWO 008 Here\\x92s a look at these companies and six others that should be good plays on this trendVideogame publishers benefit directly because they own the esports leagues This brings in revenue via ticket sales merchandising media rights advertising and sponsorships They also benefit indirectly because esports will bring in more fans and help boost product salesHere are the four main companies in esports leagues so far\\x95 Tencent HoldingsTCEHY 0650700 045 \\xa0owns Riot Games whose League of Legends is one of the world\\x92s most popular games and the basis for the League of Legends Championship Series esports league Tencent is a key esports holding because it offers exposure to the popularity of esports in China its home turf China has the largest gamer base in the world with about 442 million gamers as of 2017 and a 57 penetration rate of Chinese internet users according to the China Internet Network Information Center This year China will contribute a third of the global game industry\\x92s total revenue says NewZooTencent has a deal with Disney DIS 083 \\xa0DIS for streaming and broadcast rights for League of Legends through 2023 and it is launching a competitivegaming television channel in China\\x95 Activision Blizzard owns the Overwatch League the league that played that final at the Barclays Center The league has 12 teams now but it wants to expand to 28 Activision Blizzard will also create an esports league for its Call of Duty game says Goldman Sachs analyst Christopher MerwinActivision Blizzard looks attractive for other reasons It already has a popular mobile game in Candy Crush A key source of growth will be the conversion of PC and consolebased titles into mobile games Mobile is huge in China So this could give it a greater presence in China where the company hopes to expand via a partnership with NetEase NTES 062Another catalyst for the stock should be the release of \\x93Call of Duty Black Ops 4\\x94 in October\\x93We believe Activision is building a Disneystyle entertainment business for the 21st century but with higher operating margins\\x94 says Jefferies analyst Timothy O\\x92SheaLike the shares of other game publishers Activision Blizzard stock can suffer bouts of weakness on fears about competition from Fortnite published by Epic Games But not to worry \\x93While undeniably the hottest game we\\x92ve seen in years Fortnite is more about expanding the market than cannibalizing it\\x94 says O\\x92SheaRead Want to make money off the \\x91Fortnite\\x92 videogame Buy this stock\\x95 TakeTwo Interactive has a partnership with the National Basketball Association to launch the NBA 2K eLeague\\x95 Electronic Arts is developing leagues based on its Fédération Internationale de Football Association FIFA and Madden NFL Football games It doesn\\x92t get much credit for this yet says Merwin So it could be the sleeper hereUnderscoring the financial muscle behind esports are the big brands that have signed on as sponsors They include Toyota TM 2337203 129 HP HPQ 009 Intel INTC 086 TMobile US TMUS 030 \\xa0 Nissan 7201 081 Berkshire Hathaway\\x92s BRKA 062BRKB 061 \\xa0Geico and Axe owned by Unilever UN 019UNIA 041ULVR 015Moreover esport team buyers include traditional sports teams owners or top executives at the New England Patriots the New York Mets and Comcast Spectator which owns the Philadelphia FlyersRead this about videogame earnings Esports are here to stay but who is poised to make a killingTwitch is the most popular platform for watching esports and competitive gaming online It\\x92s a big deal Average daily viewership for January was 962000 which means it did better than two major cable TV according to Mintel For 2017 average daily viewership was 885000 for MSNBC and 783000 for CNN Celebrities are catching on to the size of the Twitch audience and making appearances In March Drake played Fortnight with the popular gamer Tyler \\x93Ninja\\x94 BlevinsTwitch is one of Amazoncom\\x92s AMZN 010 bestkept secrets says Motely Fool writer John Ballard He thinks Amazon\\x92s 2014 purchase of Twitch for 970 million is starting to look like a really clever move Ballard describes Twitch a social network for gamers where viewers can watch their favorite streamers chat with other gamers and develop their skillsAs the biggest platform with about 70 of monthly active users in the online gaming space according to Goldman Sachs Twitch benefits from the \\x93network effect\\x94 This means it has the power to continually attract more users and become more useful to them as it does this Amazoncom makes money from Twitch by taking a cut of sales on the platform It has also integrated Twitch into Prime which helps Prime get more users \\x93Twitch represents one of the most compelling assets in the world of esports\\x94 says Goldman Sachs analyst Heath TerryOddly Amazon doesn\\x92t mention Twitch in its most recent 10Q It mentions it once in its most recent 10K but only as a formality and with no descriptionElectronic Arts looks like another good platform company to own Taking a page out of the books of Netflix NFLX 074 \\xa0and Spotify SPOT 342 Eletronic Arts is developing a streaming game service\\x93CEO Andrew Wilson is positioning the company for a future in which videogames are streamed to all devices via subscription\\x94 says Jefferies analyst Timothy O\\x92Shea The company will offer all its games on the service and it is working on adding thirdparty party titlesAccording to tech investing lore you do well investing in the companies that make the gear used in a tech trend and not just the companies selling the final products or services If that\\x92s true then Nvidia NVDA 030 \\xa0should continue to be a good investment It makes the highend GeForce line of graphics processing units GPUs used in the highpowered PCs that gamers like So the growing popularity of esports will help Nvidia\\x93We view Nvidia as uniquely positioned to capture growth in the PC gaming user base\\x94 says Goldman Sachs analyst Toshiya Hari Nvidia has a dominant position in gamerelated chips in part because it puts most of its development budget into its GPU platform while competitor Advanced Micro Device AMD 561 \\xa0invests in a number of different product lines Nvidia\\x92s specialized chips are also used in artificial intelligence machinelearning data centers and selfdriving carsFor arms merchants also consider Logitech International LOGI 455 \\xa0a top supplier of highend gaming mice headsets and specialized gaming keyboards And don\\x92t forget Microsoft MSFT 067 It never did well with smartphones But consoles are another matter Microsoft sells the popular Xbox Late last year it refreshed the line by rolling out the Xbox One X with hardcore gamers in mindFor a broad based approach to the videogame and esports trends consider the 120 million videogame Tech exchangetraded fund  GAMR 013  It holds most of the major players in this space but be warned it has 72 stocks the largest is Glu Mobile  GLUU 250   so it is not a pure pay on the names I\\x92ve highlighted above It also has a steep expense ratio of 082 Not only is that a lot higher than the category average of 055 as calculated by Morningstar but it\\x92s way more than the 009 expense ratio levied for the SPDR SP 500  SPY 049  which tracks the SP 500 index  SPX 049The ETF is essentially flat on the year compared with the SP\\x92s 5 gainAt the time of publication Michael Brush had no positions in any stocks mentioned in this column Brush has suggested INTC BRKB AMZN and MSFT in his stock newsletter Brush Up on Stocks He is a Manhattanbased financial writer who has covered business for the New York Times and The Economist Group and he attended Columbia Business School in the KnightBagehot programCreate an email alert for Michael Brush\\x92s MarketWatch columns here requires signinWant news about Asia delivered to your inbox Subscribe to MarketWatchs free Asia Daily newsletter Sign up hereMichael Brush is a Manhattanbased financial writer who publishes the stock newsletter Brush Up on Stocks Brush has covered business for the New York Times and The Economist group He attended Columbia Business School in the KnightBagehot programJoin the conversation'],\n",
       "      dtype=object)"
      ]
     },
     "execution_count": 39,
     "metadata": {},
     "output_type": "execute_result"
    }
   ],
   "source": [
    "similar_docs[idx].index.values"
   ]
  },
  {
   "cell_type": "code",
   "execution_count": null,
   "metadata": {},
   "outputs": [],
   "source": []
  }
 ],
 "metadata": {
  "kernelspec": {
   "display_name": "Python 3",
   "language": "python",
   "name": "python3"
  },
  "language_info": {
   "codemirror_mode": {
    "name": "ipython",
    "version": 3
   },
   "file_extension": ".py",
   "mimetype": "text/x-python",
   "name": "python",
   "nbconvert_exporter": "python",
   "pygments_lexer": "ipython3",
   "version": "3.6.5"
  }
 },
 "nbformat": 4,
 "nbformat_minor": 2
}
