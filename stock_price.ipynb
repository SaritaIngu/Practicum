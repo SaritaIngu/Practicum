{
 "cells": [
  {
   "cell_type": "code",
   "execution_count": 4,
   "metadata": {
    "collapsed": false,
    "deletable": true,
    "editable": true
   },
   "outputs": [],
   "source": [
    "import warnings\n",
    "warnings.filterwarnings('ignore')\n",
    "import pandas as pd\n",
    "import fix_yahoo_finance as yf\n",
    "import datetime\n",
    "pd.core.common.is_list_like = pd.api.types.is_list_like\n",
    "import pandas_datareader.data as web"
   ]
  },
  {
   "cell_type": "code",
   "execution_count": 2,
   "metadata": {
    "collapsed": false,
    "deletable": true,
    "editable": true,
    "scrolled": false
   },
   "outputs": [
    {
     "data": {
      "text/plain": [
       "[                   Open         High          Low        Close    Adj Close  \\\n",
       " Date                                                                          \n",
       " 2018-08-03  2828.199951  2835.000000  2826.899902  2828.600098  2828.600098   \n",
       " 2018-08-05  2842.199951  2842.199951  2842.199951  2842.199951  2842.199951   \n",
       " 2018-08-06  2843.000000  2843.000000  2837.500000  2837.699951  2837.699951   \n",
       " \n",
       "             Volume Stock  \n",
       " Date                      \n",
       " 2018-08-03     101  SP=F  \n",
       " 2018-08-05       1  SP=F  \n",
       " 2018-08-06     181  SP=F  ,\n",
       "                   Open        High         Low       Close   Adj Close  \\\n",
       " Date                                                                     \n",
       " 2018-08-03  347.809998  355.000000  342.529999  348.170013  348.170013   \n",
       " 2018-08-06  345.459991  354.980011  341.829987  341.989990  341.989990   \n",
       " \n",
       "               Volume Stock  \n",
       " Date                        \n",
       " 2018-08-03  13651600  TSLA  \n",
       " 2018-08-06   8382200  TSLA  ,\n",
       "                    Open         High          Low        Close    Adj Close  \\\n",
       " Date                                                                          \n",
       " 2018-08-03  1229.619995  1230.000000  1215.060059  1223.709961  1223.709961   \n",
       " 2018-08-06  1225.000000  1225.780029  1215.849976  1224.770020  1224.770020   \n",
       " \n",
       "              Volume Stock  \n",
       " Date                       \n",
       " 2018-08-03  1089600  GOOG  \n",
       " 2018-08-06   978487  GOOG  ,\n",
       "                   Open        High         Low       Close   Adj Close  \\\n",
       " Date                                                                     \n",
       " 2018-08-03  207.029999  208.740005  205.479996  207.990005  207.990005   \n",
       " 2018-08-06  208.000000  209.250000  207.070007  209.070007  209.070007   \n",
       " \n",
       "               Volume Stock  \n",
       " Date                        \n",
       " 2018-08-03  33428200  AAPL  \n",
       " 2018-08-06  23132701  AAPL  ,\n",
       "                    Open     High          Low        Close    Adj Close  \\\n",
       " Date                                                                      \n",
       " 2018-08-03  1837.739990  1841.00  1821.500000  1823.290039  1823.290039   \n",
       " 2018-08-06  1825.810059  1847.75  1818.920044  1847.750000  1847.750000   \n",
       " \n",
       "              Volume Stock  \n",
       " Date                       \n",
       " 2018-08-03  3458500  AMZN  \n",
       " 2018-08-06  3165190  AMZN  ,\n",
       "                   Open        High         Low       Close   Adj Close  \\\n",
       " Date                                                                     \n",
       " 2018-08-03  177.690002  178.850006  176.149994  177.779999  177.779999   \n",
       " 2018-08-06  178.970001  185.789993  178.380005  185.690002  185.690002   \n",
       " \n",
       "               Volume Stock  \n",
       " Date                        \n",
       " 2018-08-03  24746100    FB  \n",
       " 2018-08-06  47563533    FB  ,\n",
       "                   Open        High         Low       Close   Adj Close  \\\n",
       " Date                                                                     \n",
       " 2018-08-03  107.800003  108.050003  106.820000  108.040001  108.040001   \n",
       " 2018-08-06  108.120003  108.419998  107.558998  108.129997  108.129997   \n",
       " \n",
       "               Volume Stock  \n",
       " Date                        \n",
       " 2018-08-03  18656200  MSFT  \n",
       " 2018-08-06  11994900  MSFT  ]"
      ]
     },
     "execution_count": 2,
     "metadata": {},
     "output_type": "execute_result"
    },
    {
     "name": "stderr",
     "output_type": "stream",
     "text": [
      "/Users/shuanghao/Library/Enthought/Canopy/edm/envs/User/lib/python2.7/json/encoder.py:207: DeprecationWarning: Interpreting naive datetime as local 2018-08-06 16:55:03.378238. Please add timezone info to timestamps.\n",
      "  chunks = self.iterencode(o, _one_shot=True)\n"
     ]
    }
   ],
   "source": [
    "stock_price=[]\n",
    "\n",
    "#datetime.datetime is a data type within the datetime module\n",
    "# end day is today\n",
    "today = datetime.datetime.today()\n",
    "# start day is last business day\n",
    "shift = datetime.timedelta(max(1,(today.weekday() + 6) % 7 - 3))\n",
    "lastBusDay = today - shift\n",
    "\n",
    "stocks = [\"SP=F\", \"TSLA\", \"GOOG\", \"AAPL\", \"AMZN\", \"FB\", \"MSFT\"]\n",
    "\n",
    "for stock in stocks:\n",
    "    price = web.DataReader(stock, 'yahoo', lastBusDay, today)\n",
    "    price['Stock'] = stock\n",
    "    stock_price.append(price)\n",
    "    \n",
    "stock_price\n",
    " "
   ]
  },
  {
   "cell_type": "code",
   "execution_count": 5,
   "metadata": {
    "collapsed": false,
    "deletable": true,
    "editable": true
   },
   "outputs": [
    {
     "data": {
      "text/html": [
       "<div>\n",
       "<style>\n",
       "    .dataframe thead tr:only-child th {\n",
       "        text-align: right;\n",
       "    }\n",
       "\n",
       "    .dataframe thead th {\n",
       "        text-align: left;\n",
       "    }\n",
       "\n",
       "    .dataframe tbody tr th {\n",
       "        vertical-align: top;\n",
       "    }\n",
       "</style>\n",
       "<table border=\"1\" class=\"dataframe\">\n",
       "  <thead>\n",
       "    <tr style=\"text-align: right;\">\n",
       "      <th></th>\n",
       "      <th>0</th>\n",
       "    </tr>\n",
       "  </thead>\n",
       "  <tbody>\n",
       "    <tr>\n",
       "      <th>0</th>\n",
       "      <td>Open         High          ...</td>\n",
       "    </tr>\n",
       "    <tr>\n",
       "      <th>1</th>\n",
       "      <td>Open        High         Low...</td>\n",
       "    </tr>\n",
       "    <tr>\n",
       "      <th>2</th>\n",
       "      <td>Open         High          ...</td>\n",
       "    </tr>\n",
       "    <tr>\n",
       "      <th>3</th>\n",
       "      <td>Open        High         Low...</td>\n",
       "    </tr>\n",
       "    <tr>\n",
       "      <th>4</th>\n",
       "      <td>Open     High          Low ...</td>\n",
       "    </tr>\n",
       "    <tr>\n",
       "      <th>5</th>\n",
       "      <td>Open        High         Low...</td>\n",
       "    </tr>\n",
       "    <tr>\n",
       "      <th>6</th>\n",
       "      <td>Open        High         Low...</td>\n",
       "    </tr>\n",
       "  </tbody>\n",
       "</table>\n",
       "</div>"
      ],
      "text/plain": [
       "                                                   0\n",
       "0                     Open         High          ...\n",
       "1                    Open        High         Low...\n",
       "2                     Open         High          ...\n",
       "3                    Open        High         Low...\n",
       "4                     Open     High          Low ...\n",
       "5                    Open        High         Low...\n",
       "6                    Open        High         Low..."
      ]
     },
     "execution_count": 5,
     "metadata": {},
     "output_type": "execute_result"
    }
   ],
   "source": [
    "df = pd.DataFrame(stock_price)\n",
    "df"
   ]
  },
  {
   "cell_type": "code",
   "execution_count": null,
   "metadata": {
    "collapsed": true,
    "deletable": true,
    "editable": true
   },
   "outputs": [],
   "source": [
    "stock_price.to_csv('stock price.csv')"
   ]
  },
  {
   "cell_type": "code",
   "execution_count": 17,
   "metadata": {
    "collapsed": false,
    "deletable": true,
    "editable": true,
    "scrolled": true
   },
   "outputs": [
    {
     "data": {
      "text/html": [
       "<div>\n",
       "<style>\n",
       "    .dataframe thead tr:only-child th {\n",
       "        text-align: right;\n",
       "    }\n",
       "\n",
       "    .dataframe thead th {\n",
       "        text-align: left;\n",
       "    }\n",
       "\n",
       "    .dataframe tbody tr th {\n",
       "        vertical-align: top;\n",
       "    }\n",
       "</style>\n",
       "<table border=\"1\" class=\"dataframe\">\n",
       "  <thead>\n",
       "    <tr style=\"text-align: right;\">\n",
       "      <th></th>\n",
       "      <th>Open</th>\n",
       "      <th>High</th>\n",
       "      <th>Low</th>\n",
       "      <th>Close</th>\n",
       "      <th>Adj Close</th>\n",
       "      <th>Volume</th>\n",
       "      <th>Stock</th>\n",
       "    </tr>\n",
       "    <tr>\n",
       "      <th>Date</th>\n",
       "      <th></th>\n",
       "      <th></th>\n",
       "      <th></th>\n",
       "      <th></th>\n",
       "      <th></th>\n",
       "      <th></th>\n",
       "      <th></th>\n",
       "    </tr>\n",
       "  </thead>\n",
       "  <tbody>\n",
       "    <tr>\n",
       "      <th>2018-08-03</th>\n",
       "      <td>2828.199951</td>\n",
       "      <td>2835.000000</td>\n",
       "      <td>2826.899902</td>\n",
       "      <td>2828.600098</td>\n",
       "      <td>2828.600098</td>\n",
       "      <td>101</td>\n",
       "      <td>SP</td>\n",
       "    </tr>\n",
       "    <tr>\n",
       "      <th>2018-08-05</th>\n",
       "      <td>2842.199951</td>\n",
       "      <td>2842.199951</td>\n",
       "      <td>2842.199951</td>\n",
       "      <td>2842.199951</td>\n",
       "      <td>2842.199951</td>\n",
       "      <td>1</td>\n",
       "      <td>SP</td>\n",
       "    </tr>\n",
       "    <tr>\n",
       "      <th>2018-08-06</th>\n",
       "      <td>2843.000000</td>\n",
       "      <td>2843.000000</td>\n",
       "      <td>2837.500000</td>\n",
       "      <td>2837.699951</td>\n",
       "      <td>2837.699951</td>\n",
       "      <td>181</td>\n",
       "      <td>SP</td>\n",
       "    </tr>\n",
       "  </tbody>\n",
       "</table>\n",
       "</div>"
      ],
      "text/plain": [
       "                   Open         High          Low        Close    Adj Close  \\\n",
       "Date                                                                          \n",
       "2018-08-03  2828.199951  2835.000000  2826.899902  2828.600098  2828.600098   \n",
       "2018-08-05  2842.199951  2842.199951  2842.199951  2842.199951  2842.199951   \n",
       "2018-08-06  2843.000000  2843.000000  2837.500000  2837.699951  2837.699951   \n",
       "\n",
       "            Volume Stock  \n",
       "Date                      \n",
       "2018-08-03     101    SP  \n",
       "2018-08-05       1    SP  \n",
       "2018-08-06     181    SP  "
      ]
     },
     "execution_count": 17,
     "metadata": {},
     "output_type": "execute_result"
    }
   ],
   "source": [
    "SP = web.DataReader('SP=F', 'yahoo', lastBusDay, today)\n",
    "SP['Stock']=\"SP\"\n",
    "SP"
   ]
  },
  {
   "cell_type": "code",
   "execution_count": 18,
   "metadata": {
    "collapsed": false,
    "deletable": true,
    "editable": true
   },
   "outputs": [
    {
     "data": {
      "text/html": [
       "<div>\n",
       "<style>\n",
       "    .dataframe thead tr:only-child th {\n",
       "        text-align: right;\n",
       "    }\n",
       "\n",
       "    .dataframe thead th {\n",
       "        text-align: left;\n",
       "    }\n",
       "\n",
       "    .dataframe tbody tr th {\n",
       "        vertical-align: top;\n",
       "    }\n",
       "</style>\n",
       "<table border=\"1\" class=\"dataframe\">\n",
       "  <thead>\n",
       "    <tr style=\"text-align: right;\">\n",
       "      <th></th>\n",
       "      <th>Open</th>\n",
       "      <th>High</th>\n",
       "      <th>Low</th>\n",
       "      <th>Close</th>\n",
       "      <th>Adj Close</th>\n",
       "      <th>Volume</th>\n",
       "      <th>Stock</th>\n",
       "    </tr>\n",
       "    <tr>\n",
       "      <th>Date</th>\n",
       "      <th></th>\n",
       "      <th></th>\n",
       "      <th></th>\n",
       "      <th></th>\n",
       "      <th></th>\n",
       "      <th></th>\n",
       "      <th></th>\n",
       "    </tr>\n",
       "  </thead>\n",
       "  <tbody>\n",
       "    <tr>\n",
       "      <th>2018-08-03</th>\n",
       "      <td>347.809998</td>\n",
       "      <td>355.000000</td>\n",
       "      <td>342.529999</td>\n",
       "      <td>348.170013</td>\n",
       "      <td>348.170013</td>\n",
       "      <td>13656500</td>\n",
       "      <td>TSLA</td>\n",
       "    </tr>\n",
       "    <tr>\n",
       "      <th>2018-08-06</th>\n",
       "      <td>345.459991</td>\n",
       "      <td>354.980011</td>\n",
       "      <td>341.820007</td>\n",
       "      <td>341.989990</td>\n",
       "      <td>341.989990</td>\n",
       "      <td>8542200</td>\n",
       "      <td>TSLA</td>\n",
       "    </tr>\n",
       "  </tbody>\n",
       "</table>\n",
       "</div>"
      ],
      "text/plain": [
       "                  Open        High         Low       Close   Adj Close  \\\n",
       "Date                                                                     \n",
       "2018-08-03  347.809998  355.000000  342.529999  348.170013  348.170013   \n",
       "2018-08-06  345.459991  354.980011  341.820007  341.989990  341.989990   \n",
       "\n",
       "              Volume Stock  \n",
       "Date                        \n",
       "2018-08-03  13656500  TSLA  \n",
       "2018-08-06   8542200  TSLA  "
      ]
     },
     "execution_count": 18,
     "metadata": {},
     "output_type": "execute_result"
    }
   ],
   "source": [
    "TSLA = web.DataReader('TSLA', 'yahoo', lastBusDay, today)\n",
    "TSLA['Stock']=\"TSLA\"\n",
    "TSLA"
   ]
  },
  {
   "cell_type": "code",
   "execution_count": 19,
   "metadata": {
    "collapsed": false,
    "deletable": true,
    "editable": true
   },
   "outputs": [
    {
     "data": {
      "text/html": [
       "<div>\n",
       "<style>\n",
       "    .dataframe thead tr:only-child th {\n",
       "        text-align: right;\n",
       "    }\n",
       "\n",
       "    .dataframe thead th {\n",
       "        text-align: left;\n",
       "    }\n",
       "\n",
       "    .dataframe tbody tr th {\n",
       "        vertical-align: top;\n",
       "    }\n",
       "</style>\n",
       "<table border=\"1\" class=\"dataframe\">\n",
       "  <thead>\n",
       "    <tr style=\"text-align: right;\">\n",
       "      <th></th>\n",
       "      <th>Open</th>\n",
       "      <th>High</th>\n",
       "      <th>Low</th>\n",
       "      <th>Close</th>\n",
       "      <th>Adj Close</th>\n",
       "      <th>Volume</th>\n",
       "      <th>Stock</th>\n",
       "    </tr>\n",
       "    <tr>\n",
       "      <th>Date</th>\n",
       "      <th></th>\n",
       "      <th></th>\n",
       "      <th></th>\n",
       "      <th></th>\n",
       "      <th></th>\n",
       "      <th></th>\n",
       "      <th></th>\n",
       "    </tr>\n",
       "  </thead>\n",
       "  <tbody>\n",
       "    <tr>\n",
       "      <th>2018-08-03</th>\n",
       "      <td>1229.619995</td>\n",
       "      <td>1230.000000</td>\n",
       "      <td>1215.060059</td>\n",
       "      <td>1223.709961</td>\n",
       "      <td>1223.709961</td>\n",
       "      <td>1089600</td>\n",
       "      <td>GOOG</td>\n",
       "    </tr>\n",
       "    <tr>\n",
       "      <th>2018-08-06</th>\n",
       "      <td>1225.000000</td>\n",
       "      <td>1226.088013</td>\n",
       "      <td>1215.796997</td>\n",
       "      <td>1224.770020</td>\n",
       "      <td>1224.770020</td>\n",
       "      <td>1081100</td>\n",
       "      <td>GOOG</td>\n",
       "    </tr>\n",
       "  </tbody>\n",
       "</table>\n",
       "</div>"
      ],
      "text/plain": [
       "                   Open         High          Low        Close    Adj Close  \\\n",
       "Date                                                                          \n",
       "2018-08-03  1229.619995  1230.000000  1215.060059  1223.709961  1223.709961   \n",
       "2018-08-06  1225.000000  1226.088013  1215.796997  1224.770020  1224.770020   \n",
       "\n",
       "             Volume Stock  \n",
       "Date                       \n",
       "2018-08-03  1089600  GOOG  \n",
       "2018-08-06  1081100  GOOG  "
      ]
     },
     "execution_count": 19,
     "metadata": {},
     "output_type": "execute_result"
    }
   ],
   "source": [
    "GOOG = web.DataReader('GOOG', 'yahoo', lastBusDay, today)\n",
    "GOOG['Stock']=\"GOOG\"\n",
    "GOOG"
   ]
  },
  {
   "cell_type": "code",
   "execution_count": 20,
   "metadata": {
    "collapsed": false,
    "deletable": true,
    "editable": true,
    "scrolled": true
   },
   "outputs": [
    {
     "data": {
      "text/html": [
       "<div>\n",
       "<style>\n",
       "    .dataframe thead tr:only-child th {\n",
       "        text-align: right;\n",
       "    }\n",
       "\n",
       "    .dataframe thead th {\n",
       "        text-align: left;\n",
       "    }\n",
       "\n",
       "    .dataframe tbody tr th {\n",
       "        vertical-align: top;\n",
       "    }\n",
       "</style>\n",
       "<table border=\"1\" class=\"dataframe\">\n",
       "  <thead>\n",
       "    <tr style=\"text-align: right;\">\n",
       "      <th></th>\n",
       "      <th>Open</th>\n",
       "      <th>High</th>\n",
       "      <th>Low</th>\n",
       "      <th>Close</th>\n",
       "      <th>Adj Close</th>\n",
       "      <th>Volume</th>\n",
       "      <th>Stock</th>\n",
       "    </tr>\n",
       "    <tr>\n",
       "      <th>Date</th>\n",
       "      <th></th>\n",
       "      <th></th>\n",
       "      <th></th>\n",
       "      <th></th>\n",
       "      <th></th>\n",
       "      <th></th>\n",
       "      <th></th>\n",
       "    </tr>\n",
       "  </thead>\n",
       "  <tbody>\n",
       "    <tr>\n",
       "      <th>2018-08-03</th>\n",
       "      <td>207.029999</td>\n",
       "      <td>208.740005</td>\n",
       "      <td>205.479996</td>\n",
       "      <td>207.990005</td>\n",
       "      <td>207.990005</td>\n",
       "      <td>33447400</td>\n",
       "      <td>AAPL</td>\n",
       "    </tr>\n",
       "    <tr>\n",
       "      <th>2018-08-06</th>\n",
       "      <td>208.000000</td>\n",
       "      <td>209.250000</td>\n",
       "      <td>207.070007</td>\n",
       "      <td>209.070007</td>\n",
       "      <td>209.070007</td>\n",
       "      <td>25398800</td>\n",
       "      <td>AAPL</td>\n",
       "    </tr>\n",
       "  </tbody>\n",
       "</table>\n",
       "</div>"
      ],
      "text/plain": [
       "                  Open        High         Low       Close   Adj Close  \\\n",
       "Date                                                                     \n",
       "2018-08-03  207.029999  208.740005  205.479996  207.990005  207.990005   \n",
       "2018-08-06  208.000000  209.250000  207.070007  209.070007  209.070007   \n",
       "\n",
       "              Volume Stock  \n",
       "Date                        \n",
       "2018-08-03  33447400  AAPL  \n",
       "2018-08-06  25398800  AAPL  "
      ]
     },
     "execution_count": 20,
     "metadata": {},
     "output_type": "execute_result"
    }
   ],
   "source": [
    "AAPL = web.DataReader('AAPL', 'yahoo', lastBusDay, today)\n",
    "AAPL['Stock']=\"AAPL\"\n",
    "AAPL"
   ]
  },
  {
   "cell_type": "code",
   "execution_count": 21,
   "metadata": {
    "collapsed": false,
    "deletable": true,
    "editable": true
   },
   "outputs": [
    {
     "data": {
      "text/html": [
       "<div>\n",
       "<style>\n",
       "    .dataframe thead tr:only-child th {\n",
       "        text-align: right;\n",
       "    }\n",
       "\n",
       "    .dataframe thead th {\n",
       "        text-align: left;\n",
       "    }\n",
       "\n",
       "    .dataframe tbody tr th {\n",
       "        vertical-align: top;\n",
       "    }\n",
       "</style>\n",
       "<table border=\"1\" class=\"dataframe\">\n",
       "  <thead>\n",
       "    <tr style=\"text-align: right;\">\n",
       "      <th></th>\n",
       "      <th>Open</th>\n",
       "      <th>High</th>\n",
       "      <th>Low</th>\n",
       "      <th>Close</th>\n",
       "      <th>Adj Close</th>\n",
       "      <th>Volume</th>\n",
       "      <th>Stock</th>\n",
       "    </tr>\n",
       "    <tr>\n",
       "      <th>Date</th>\n",
       "      <th></th>\n",
       "      <th></th>\n",
       "      <th></th>\n",
       "      <th></th>\n",
       "      <th></th>\n",
       "      <th></th>\n",
       "      <th></th>\n",
       "    </tr>\n",
       "  </thead>\n",
       "  <tbody>\n",
       "    <tr>\n",
       "      <th>2018-08-03</th>\n",
       "      <td>177.690002</td>\n",
       "      <td>178.850006</td>\n",
       "      <td>176.149994</td>\n",
       "      <td>177.779999</td>\n",
       "      <td>177.779999</td>\n",
       "      <td>24763400</td>\n",
       "      <td>FB</td>\n",
       "    </tr>\n",
       "    <tr>\n",
       "      <th>2018-08-06</th>\n",
       "      <td>178.970001</td>\n",
       "      <td>185.789993</td>\n",
       "      <td>178.380005</td>\n",
       "      <td>185.690002</td>\n",
       "      <td>185.690002</td>\n",
       "      <td>49645300</td>\n",
       "      <td>FB</td>\n",
       "    </tr>\n",
       "  </tbody>\n",
       "</table>\n",
       "</div>"
      ],
      "text/plain": [
       "                  Open        High         Low       Close   Adj Close  \\\n",
       "Date                                                                     \n",
       "2018-08-03  177.690002  178.850006  176.149994  177.779999  177.779999   \n",
       "2018-08-06  178.970001  185.789993  178.380005  185.690002  185.690002   \n",
       "\n",
       "              Volume Stock  \n",
       "Date                        \n",
       "2018-08-03  24763400    FB  \n",
       "2018-08-06  49645300    FB  "
      ]
     },
     "execution_count": 21,
     "metadata": {},
     "output_type": "execute_result"
    }
   ],
   "source": [
    "FB = web.DataReader('FB', 'yahoo', lastBusDay, today)\n",
    "FB['Stock']=\"FB\"\n",
    "FB"
   ]
  },
  {
   "cell_type": "code",
   "execution_count": 22,
   "metadata": {
    "collapsed": false,
    "deletable": true,
    "editable": true
   },
   "outputs": [
    {
     "data": {
      "text/html": [
       "<div>\n",
       "<style>\n",
       "    .dataframe thead tr:only-child th {\n",
       "        text-align: right;\n",
       "    }\n",
       "\n",
       "    .dataframe thead th {\n",
       "        text-align: left;\n",
       "    }\n",
       "\n",
       "    .dataframe tbody tr th {\n",
       "        vertical-align: top;\n",
       "    }\n",
       "</style>\n",
       "<table border=\"1\" class=\"dataframe\">\n",
       "  <thead>\n",
       "    <tr style=\"text-align: right;\">\n",
       "      <th></th>\n",
       "      <th>Open</th>\n",
       "      <th>High</th>\n",
       "      <th>Low</th>\n",
       "      <th>Close</th>\n",
       "      <th>Adj Close</th>\n",
       "      <th>Volume</th>\n",
       "      <th>Stock</th>\n",
       "    </tr>\n",
       "    <tr>\n",
       "      <th>Date</th>\n",
       "      <th></th>\n",
       "      <th></th>\n",
       "      <th></th>\n",
       "      <th></th>\n",
       "      <th></th>\n",
       "      <th></th>\n",
       "      <th></th>\n",
       "    </tr>\n",
       "  </thead>\n",
       "  <tbody>\n",
       "    <tr>\n",
       "      <th>2018-08-03</th>\n",
       "      <td>107.800003</td>\n",
       "      <td>108.050003</td>\n",
       "      <td>106.820000</td>\n",
       "      <td>108.040001</td>\n",
       "      <td>108.040001</td>\n",
       "      <td>18659600</td>\n",
       "      <td>MSFT</td>\n",
       "    </tr>\n",
       "    <tr>\n",
       "      <th>2018-08-06</th>\n",
       "      <td>108.120003</td>\n",
       "      <td>108.419998</td>\n",
       "      <td>107.559998</td>\n",
       "      <td>108.129997</td>\n",
       "      <td>108.129997</td>\n",
       "      <td>20261500</td>\n",
       "      <td>MSFT</td>\n",
       "    </tr>\n",
       "  </tbody>\n",
       "</table>\n",
       "</div>"
      ],
      "text/plain": [
       "                  Open        High         Low       Close   Adj Close  \\\n",
       "Date                                                                     \n",
       "2018-08-03  107.800003  108.050003  106.820000  108.040001  108.040001   \n",
       "2018-08-06  108.120003  108.419998  107.559998  108.129997  108.129997   \n",
       "\n",
       "              Volume Stock  \n",
       "Date                        \n",
       "2018-08-03  18659600  MSFT  \n",
       "2018-08-06  20261500  MSFT  "
      ]
     },
     "execution_count": 22,
     "metadata": {},
     "output_type": "execute_result"
    }
   ],
   "source": [
    "MSFT = web.DataReader('MSFT', 'yahoo', lastBusDay, today)\n",
    "MSFT['Stock']=\"MSFT\"\n",
    "MSFT"
   ]
  },
  {
   "cell_type": "code",
   "execution_count": 23,
   "metadata": {
    "collapsed": false,
    "deletable": true,
    "editable": true
   },
   "outputs": [
    {
     "data": {
      "text/plain": [
       "Index([u'Open', u'High', u'Low', u'Close', u'Adj Close', u'Volume', u'Stock'], dtype='object')"
      ]
     },
     "execution_count": 23,
     "metadata": {},
     "output_type": "execute_result"
    }
   ],
   "source": [
    "AAPL.columns"
   ]
  },
  {
   "cell_type": "code",
   "execution_count": 87,
   "metadata": {
    "collapsed": false,
    "deletable": true,
    "editable": true
   },
   "outputs": [
    {
     "data": {
      "text/plain": [
       "datetime.datetime(2018, 8, 6, 16, 28, 5, 53060)"
      ]
     },
     "execution_count": 87,
     "metadata": {},
     "output_type": "execute_result"
    }
   ],
   "source": [
    "today"
   ]
  },
  {
   "cell_type": "code",
   "execution_count": 88,
   "metadata": {
    "collapsed": false,
    "deletable": true,
    "editable": true
   },
   "outputs": [
    {
     "data": {
      "text/plain": [
       "'2018-08-06T16:28:05.053060'"
      ]
     },
     "execution_count": 88,
     "metadata": {},
     "output_type": "execute_result"
    }
   ],
   "source": [
    "today.isoformat()"
   ]
  },
  {
   "cell_type": "code",
   "execution_count": 16,
   "metadata": {
    "collapsed": false,
    "deletable": true,
    "editable": true
   },
   "outputs": [
    {
     "data": {
      "text/plain": [
       "Date\n",
       "2018-08-03    107.800003\n",
       "2018-08-06    108.120003\n",
       "Name: Open, dtype: float64"
      ]
     },
     "execution_count": 16,
     "metadata": {},
     "output_type": "execute_result"
    }
   ],
   "source": [
    "MSFT['Open']"
   ]
  },
  {
   "cell_type": "code",
   "execution_count": null,
   "metadata": {
    "collapsed": true
   },
   "outputs": [],
   "source": []
  }
 ],
 "metadata": {
  "kernelspec": {
   "display_name": "Python 3",
   "language": "python",
   "name": "python3"
  },
  "language_info": {
   "codemirror_mode": {
    "name": "ipython",
    "version": 3
   },
   "file_extension": ".py",
   "mimetype": "text/x-python",
   "name": "python",
   "nbconvert_exporter": "python",
   "pygments_lexer": "ipython3",
   "version": "3.5.5"
  }
 },
 "nbformat": 4,
 "nbformat_minor": 1
}
